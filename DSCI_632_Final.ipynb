{
  "cells": [
    {
      "cell_type": "markdown",
      "metadata": {
        "id": "view-in-github",
        "colab_type": "text"
      },
      "source": [
        "<a href=\"https://colab.research.google.com/github/meznah1995/spamemail/blob/main/DSCI_632_Final.ipynb\" target=\"_parent\"><img src=\"https://colab.research.google.com/assets/colab-badge.svg\" alt=\"Open In Colab\"/></a>"
      ]
    },
    {
      "cell_type": "markdown",
      "metadata": {
        "id": "XNwBhCh5_fcM"
      },
      "source": [
        "# DSCI 632 Final\n",
        "\n",
        "Your final is to use the dataset of your choice and the techniques in this class to do the following:\n",
        "\n",
        "1. Define and describe the dataset (10 points)\n",
        "1. Clean the data (10 points)\n",
        "1. Transform the clean data (10 points)\n",
        "1. Show your analysis of the data (10 points)"
      ]
    },
    {
      "cell_type": "markdown",
      "metadata": {
        "id": "aZL-vts6Fyji"
      },
      "source": [
        "## Ground Rules\n",
        "\n",
        "1. Explain everything you're doing with pyspark in the code cells using [markdown](https://www.markdownguide.org/cheat-sheet) in text cells. Help the reader understand why you're doing each step so they can re-create it. Remember, this is an assignment to show how you analyze data to a potential employer. Don't use code comments to explain things.\n",
        "1. All of the sections are heading 1 in markdown, so use heading 2 to write your explainations, and heading 3 for any sub-headers. Check in your table of contents view in colab to make sure each point is listed before you turn this in.\n",
        "1. Don't hesisate to use multiple code/text cells in each section, as long as they're all labeled and described.\n",
        "1. Assume that the reader doesn't have access to the dataset on your local machine. Provide a link to the dataset you're using, or if able, include code to copy it from a public source. Don't rely on uploading from your local machine. (Importing from Google Drive is ok, as long as you provide the link to the data)\n",
        "1. If using GCP services, include screenshots from your console if there's a step that you aren't able to re-produce in code. Using the SDK is always preferred, but you won't lose points for using screenshots and explaining them.\n",
        "1. Import the data ONCE, then transform it to fit your analysis.\n",
        "1. Don't overwrite data, make new columns for new transformations. You can always drop columns later, but you can't get overwritten values back.\n",
        "1. Feel free to work with classmates, but all work submitted must be your own.\n",
        "1. Make sure to run disconnect the runtime and re-run the notebook at least once before turning in. If you are getting certain Java runtime errors, this might also help."
      ]
    },
    {
      "cell_type": "markdown",
      "metadata": {
        "id": "o92jEFUiQDLu"
      },
      "source": [
        "## Extra Credit Opportunities!\n",
        "\n",
        "- If you provide a link to this notebook on your public GitHub page instead of turning it in as an attachment, you will get 2 points extra credit.\n",
        "- Extra credit will be given for using the [Google Cloud SDK](https://cloud.google.com/sdk/) to create/use/destroy any cloud resources, up to 2 points per section, 8 points total.\n",
        " - Don't be afraid to look at the GCP example colab notebooks from the class notes, the GCP documentation, or GitHub for examples.\n",
        "- If this notebook is self-contained, you will get 5 points extra credit. (Requirements below)\n",
        " - The data is imported without relying on Google Drive, as the paths to data in Google Drive are user-specific. Downloads from public storage buckets/services are fine. (1 point)\n",
        " - It be run from start to finish without making any changes to paths, code, or variable names. (1 point)\n",
        " - All calls to external services, including GCP, are done programatically, no screenshots explaining how it worked in a browser console. (Using an API or SDK, 2 points)\n",
        " - All cloud resources are destroyed at the end of the notebook in a seperate section (Also via API or SDK, 1 point)"
      ]
    },
    {
      "cell_type": "markdown",
      "metadata": {
        "id": "te7o-qDYH5Pl"
      },
      "source": [
        "---"
      ]
    },
    {
      "cell_type": "markdown",
      "metadata": {
        "id": "rlYD5Go09y1Q"
      },
      "source": [
        "# Section 1: Define and describe the dataset\n",
        "\n",
        "10 points\n",
        "\n",
        "Import the dataset, and describe why you'll be analyzing in it. You can summarize a few columns, show a more information on the relavent features, or but help the reader understand what the dataset is, what is in it, and why you picked it.\n",
        "\n",
        "Some questions that it might help you to answer:\n",
        "1. Why are you choosing this dataset?\n",
        "1. What variables will you use?\n",
        "1. What analysis(es) will you run?\n",
        "1. Do you have any hypotheses? What are they?\n",
        "\n",
        "### This section should include one or more of the following:\n",
        "- A histogram of several features relavent to your analysis\n",
        "- The schema of the dataset, with the datatypes assigned correctly\n",
        "- A text cell with explainations of the relavent features in [markdown](https://www.markdownguide.org/cheat-sheet)\n",
        "- Use Spark SQL or built-in methods to show a range of values\n",
        "- Most common words/n-grams found"
      ]
    },
    {
      "cell_type": "markdown",
      "source": [
        "I have chosen the \"Spam Email Dataset\" to develop an automated system distinguishing between spam and non-spam (\"ham\") messages. This dataset comprises columns v1, indicating the message label ('spam' or 'ham'), and v2, representing the message content. The analysis involves preprocessing the v2 column to derive meaningful patterns, employing techniques like Word2Vec for feature extraction, and using Logistic Regression and RandomForest for classification. I hypothesize that spam messages contain distinct textual patterns, enabling our model to accurately classify messages, and enhance email services by filtering out undesired content."
      ],
      "metadata": {
        "id": "rn3o_oaYZ2y2"
      }
    },
    {
      "cell_type": "code",
      "execution_count": 1,
      "metadata": {
        "id": "AXLF1DHU8OuX"
      },
      "outputs": [],
      "source": [
        "# Install Spark 3.0.1\n",
        "!apt-get install openjdk-8-jdk-headless -qq > /dev/null\n",
        "!wget -q https://archive.apache.org/dist/spark/spark-3.0.1/spark-3.0.1-bin-hadoop2.7.tgz\n",
        "!tar xf spark-3.0.1-bin-hadoop2.7.tgz"
      ]
    },
    {
      "cell_type": "code",
      "source": [
        "# Set Environment Variables\n",
        "import os\n",
        "os.environ[\"JAVA_HOME\"] = \"/usr/lib/jvm/java-8-openjdk-amd64\"\n",
        "os.environ[\"SPARK_HOME\"] = \"/content/spark-3.0.1-bin-hadoop2.7\""
      ],
      "metadata": {
        "id": "bdaviEg8Z6Hb"
      },
      "execution_count": 2,
      "outputs": []
    },
    {
      "cell_type": "code",
      "source": [
        "!python -m pip install --upgrade pyspark==2.4.0\n",
        "!python -m pip install -q findspark"
      ],
      "metadata": {
        "colab": {
          "base_uri": "https://localhost:8080/"
        },
        "id": "JYqXgpTlZ9Kp",
        "outputId": "e7ddb9ff-7eb2-423b-bf7e-0e3107e5b398"
      },
      "execution_count": 3,
      "outputs": [
        {
          "output_type": "stream",
          "name": "stdout",
          "text": [
            "Collecting pyspark==2.4.0\n",
            "  Downloading pyspark-2.4.0.tar.gz (213.4 MB)\n",
            "\u001b[2K     \u001b[90m━━━━━━━━━━━━━━━━━━━━━━━━━━━━━━━━━━━━━━━\u001b[0m \u001b[32m213.4/213.4 MB\u001b[0m \u001b[31m4.0 MB/s\u001b[0m eta \u001b[36m0:00:00\u001b[0m\n",
            "\u001b[?25h  Preparing metadata (setup.py) ... \u001b[?25l\u001b[?25hdone\n",
            "Collecting py4j==0.10.7 (from pyspark==2.4.0)\n",
            "  Downloading py4j-0.10.7-py2.py3-none-any.whl (197 kB)\n",
            "\u001b[2K     \u001b[90m━━━━━━━━━━━━━━━━━━━━━━━━━━━━━━━━━━━━━━\u001b[0m \u001b[32m197.3/197.3 kB\u001b[0m \u001b[31m22.7 MB/s\u001b[0m eta \u001b[36m0:00:00\u001b[0m\n",
            "\u001b[?25hBuilding wheels for collected packages: pyspark\n",
            "  Building wheel for pyspark (setup.py) ... \u001b[?25l\u001b[?25hdone\n",
            "  Created wheel for pyspark: filename=pyspark-2.4.0-py2.py3-none-any.whl size=213793582 sha256=0744f247621c75722712fbb8c57b86937b62c8bd0193ea61850484c37f6fa3fe\n",
            "  Stored in directory: /root/.cache/pip/wheels/f7/6f/a8/4d2c26233a51a570ccf015208651aeed4590ed3f935b70e7c6\n",
            "Successfully built pyspark\n",
            "Installing collected packages: py4j, pyspark\n",
            "  Attempting uninstall: py4j\n",
            "    Found existing installation: py4j 0.10.9.7\n",
            "    Uninstalling py4j-0.10.9.7:\n",
            "      Successfully uninstalled py4j-0.10.9.7\n",
            "Successfully installed py4j-0.10.7 pyspark-2.4.0\n"
          ]
        }
      ]
    },
    {
      "cell_type": "code",
      "source": [
        "import findspark\n",
        "findspark.init()"
      ],
      "metadata": {
        "id": "AVRLafkCaF3A"
      },
      "execution_count": 4,
      "outputs": []
    },
    {
      "cell_type": "code",
      "source": [
        "\n",
        "from pyspark.sql import SparkSession\n",
        "APP_NAME = \"SpamHamClassification\"\n",
        "spark = SparkSession.builder.appName(APP_NAME).getOrCreate()"
      ],
      "metadata": {
        "id": "uhECLRY4aGt-"
      },
      "execution_count": 5,
      "outputs": []
    },
    {
      "cell_type": "code",
      "source": [
        "import urllib.request\n",
        "\n",
        "data_url = 'https://raw.githubusercontent.com/meznah1995/spamemail/main/spam.csv'\n",
        "local_filename = \"spam.csv\"\n",
        "\n",
        "urllib.request.urlretrieve(data_url, local_filename)\n",
        "\n",
        "df = spark.read.csv(local_filename, header=True, inferSchema=True)\n",
        "\n",
        "df.show()\n",
        "\n",
        "df.printSchema()\n",
        "\n",
        "print(f\"Total Rows: {df.count()}\")\n",
        "\n",
        "df.describe().show()\n"
      ],
      "metadata": {
        "colab": {
          "base_uri": "https://localhost:8080/"
        },
        "id": "e5v9rfwlaKMs",
        "outputId": "4f71d709-8494-4927-a510-dee8adbb8226"
      },
      "execution_count": 6,
      "outputs": [
        {
          "output_type": "stream",
          "name": "stdout",
          "text": [
            "+----+--------------------+----+----+----+\n",
            "|  v1|                  v2| _c2| _c3| _c4|\n",
            "+----+--------------------+----+----+----+\n",
            "| ham|Go until jurong p...|null|null|null|\n",
            "| ham|Ok lar... Joking ...|null|null|null|\n",
            "|spam|Free entry in 2 a...|null|null|null|\n",
            "| ham|U dun say so earl...|null|null|null|\n",
            "| ham|Nah I don't think...|null|null|null|\n",
            "|spam|FreeMsg Hey there...|null|null|null|\n",
            "| ham|Even my brother i...|null|null|null|\n",
            "| ham|As per your reque...|null|null|null|\n",
            "|spam|WINNER!! As a val...|null|null|null|\n",
            "|spam|Had your mobile 1...|null|null|null|\n",
            "| ham|I'm gonna be home...|null|null|null|\n",
            "|spam|SIX chances to wi...|null|null|null|\n",
            "|spam|URGENT! You have ...|null|null|null|\n",
            "| ham|I've been searchi...|null|null|null|\n",
            "| ham|I HAVE A DATE ON ...|null|null|null|\n",
            "|spam|XXXMobileMovieClu...|null|null|null|\n",
            "| ham|Oh k...i'm watchi...|null|null|null|\n",
            "| ham|Eh u remember how...|null|null|null|\n",
            "| ham|Fine if that��s t...|null|null|null|\n",
            "|spam|England v Macedon...|null|null|null|\n",
            "+----+--------------------+----+----+----+\n",
            "only showing top 20 rows\n",
            "\n",
            "root\n",
            " |-- v1: string (nullable = true)\n",
            " |-- v2: string (nullable = true)\n",
            " |-- _c2: string (nullable = true)\n",
            " |-- _c3: string (nullable = true)\n",
            " |-- _c4: string (nullable = true)\n",
            "\n",
            "Total Rows: 5574\n",
            "+-------+----+--------------------+--------------------+--------------------+--------------------+\n",
            "|summary|  v1|                  v2|                 _c2|                 _c3|                 _c4|\n",
            "+-------+----+--------------------+--------------------+--------------------+--------------------+\n",
            "|  count|5574|                5573|                  49|                  12|                   6|\n",
            "|   mean|null|               645.0|                null|                null|                null|\n",
            "| stddev|null|                 NaN|                null|                null|                null|\n",
            "|    min| ham| &lt;#&gt;  in mc...| Dont Come Near M...| ILLSPEAK 2 U2MOR...| CALL 2MWEN IM BK...|\n",
            "|    max|spam|��_ we r stayin h...|u hav2hear it!c u...|i wil tolerat.bcs...|            GNT:-)\"\"|\n",
            "+-------+----+--------------------+--------------------+--------------------+--------------------+\n",
            "\n"
          ]
        }
      ]
    },
    {
      "cell_type": "code",
      "source": [
        "from pyspark.sql.functions import length\n",
        "from pyspark.sql.functions import min, max\n",
        "\n",
        "df = df.withColumn('length', length(df['v2']))\n",
        "\n",
        "df.printSchema()\n",
        "\n",
        "df.groupBy(\"length\").count().orderBy(\"length\").show(5)\n",
        "df.select(min(\"length\"), max(\"length\")).show()\n",
        "\n"
      ],
      "metadata": {
        "colab": {
          "base_uri": "https://localhost:8080/"
        },
        "id": "hgqzIg0saUDC",
        "outputId": "ceeca59e-fcc8-4a80-ba46-7400c68ec016"
      },
      "execution_count": 7,
      "outputs": [
        {
          "output_type": "stream",
          "name": "stdout",
          "text": [
            "root\n",
            " |-- v1: string (nullable = true)\n",
            " |-- v2: string (nullable = true)\n",
            " |-- _c2: string (nullable = true)\n",
            " |-- _c3: string (nullable = true)\n",
            " |-- _c4: string (nullable = true)\n",
            " |-- length: integer (nullable = true)\n",
            "\n",
            "+------+-----+\n",
            "|length|count|\n",
            "+------+-----+\n",
            "|  null|    1|\n",
            "|     2|    4|\n",
            "|     3|    9|\n",
            "|     4|    6|\n",
            "|     5|   11|\n",
            "+------+-----+\n",
            "only showing top 5 rows\n",
            "\n",
            "+-----------+-----------+\n",
            "|min(length)|max(length)|\n",
            "+-----------+-----------+\n",
            "|          2|        910|\n",
            "+-----------+-----------+\n",
            "\n"
          ]
        }
      ]
    },
    {
      "cell_type": "code",
      "source": [
        "import matplotlib.pyplot as plt\n",
        "\n",
        "lengths = df.select('length').toPandas()\n",
        "\n",
        "plt.hist(lengths['length'], bins=50)\n",
        "plt.title('Distribution of Message Lengths')\n",
        "plt.xlabel('Length')\n",
        "plt.ylabel('Number of Messages')\n",
        "plt.show()\n"
      ],
      "metadata": {
        "colab": {
          "base_uri": "https://localhost:8080/",
          "height": 472
        },
        "id": "3PR6XEnkwgop",
        "outputId": "b7f105e9-17f9-4dfb-f06c-394a1282f293"
      },
      "execution_count": 8,
      "outputs": [
        {
          "output_type": "display_data",
          "data": {
            "text/plain": [
              "<Figure size 640x480 with 1 Axes>"
            ],
            "image/png": "[encoded data removed]"
          },
          "metadata": {}
        }
      ]
    },
    {
      "cell_type": "code",
      "source": [
        "label_counts = df.groupBy(\"v1\").count()\n",
        "label_counts.show()\n",
        "\n",
        "label_counts2 = df.groupBy(\"v2\").count()\n",
        "label_counts2.show()"
      ],
      "metadata": {
        "colab": {
          "base_uri": "https://localhost:8080/"
        },
        "id": "Cbh7oVbWaXGS",
        "outputId": "977ab31d-35f2-4d41-b4b5-47f67a29e422"
      },
      "execution_count": 9,
      "outputs": [
        {
          "output_type": "stream",
          "name": "stdout",
          "text": [
            "+------+-----+\n",
            "|    v1|count|\n",
            "+------+-----+\n",
            "|ham\"\"\"|    2|\n",
            "|   ham| 4825|\n",
            "|  spam|  747|\n",
            "+------+-----+\n",
            "\n",
            "+--------------------+-----+\n",
            "|                  v2|count|\n",
            "+--------------------+-----+\n",
            "|You are a winner ...|    1|\n",
            "|Will u meet ur dr...|    1|\n",
            "|Unless it's a sit...|    1|\n",
            "|I am great prince...|    1|\n",
            "|Not a lot has hap...|    1|\n",
            "|Dont forget you c...|    1|\n",
            "|How are you with ...|    1|\n",
            "|Just got some gas...|    1|\n",
            "|Guess who spent a...|    1|\n",
            "|K go and sleep we...|    1|\n",
            "|Hi 07734396839 IB...|    2|\n",
            "|Lol that's differ...|    1|\n",
            "|Ola would get bac...|    1|\n",
            "|Was playng 9 door...|    1|\n",
            "|Yes I know the ch...|    1|\n",
            "|And whenever you ...|    1|\n",
            "|K da:)how many pa...|    1|\n",
            "|Tunji, how's the ...|    1|\n",
            "|Wat time do u wan...|    1|\n",
            "|Your bill at 3 is...|    1|\n",
            "+--------------------+-----+\n",
            "only showing top 20 rows\n",
            "\n"
          ]
        }
      ]
    },
    {
      "cell_type": "code",
      "source": [
        "from pyspark.sql.functions import col, explode, split, count, desc\n",
        "import matplotlib.pyplot as plt\n",
        "\n",
        "spam_df = df.filter(df['v1'] == 'spam')\n",
        "\n",
        "spam_words = spam_df.withColumn(\"word\", explode(split(col(\"v2\"), \" \")))\n",
        "\n",
        "word_counts = spam_words.groupBy(\"word\").count()\n",
        "\n",
        "top_spam_words = word_counts.orderBy(col(\"count\").desc()).limit(20)\n",
        "\n",
        "top_spam_words_pd = top_spam_words.toPandas()\n",
        "\n",
        "\n",
        "top_spam_words = word_counts.orderBy(col(\"count\").desc()).show(20)\n",
        "\n",
        "plt.figure(figsize=(12,8))\n",
        "top_spam_words_pd.plot(kind='bar', x='word', y='count', legend=None)\n",
        "plt.title('Top 20 Words in Spam Messages')\n",
        "plt.xlabel('Word')\n",
        "plt.ylabel('Count')\n",
        "plt.xticks(rotation=45)\n",
        "plt.tight_layout()\n",
        "plt.show()\n"
      ],
      "metadata": {
        "colab": {
          "base_uri": "https://localhost:8080/",
          "height": 956
        },
        "id": "1nm3IJmtw9x0",
        "outputId": "157447ff-f186-4bdf-bcb1-01f80799961e"
      },
      "execution_count": 10,
      "outputs": [
        {
          "output_type": "stream",
          "name": "stdout",
          "text": [
            "+----+-----+\n",
            "|word|count|\n",
            "+----+-----+\n",
            "|  to|  604|\n",
            "|   a|  358|\n",
            "|your|  187|\n",
            "|  or|  185|\n",
            "|call|  185|\n",
            "| the|  178|\n",
            "|   2|  169|\n",
            "| for|  169|\n",
            "| you|  164|\n",
            "|  is|  143|\n",
            "|Call|  136|\n",
            "|  on|  135|\n",
            "|have|  128|\n",
            "| and|  119|\n",
            "|from|  116|\n",
            "|  ur|  107|\n",
            "|with|  101|\n",
            "|   &|   98|\n",
            "|  of|   93|\n",
            "|   4|   93|\n",
            "+----+-----+\n",
            "only showing top 20 rows\n",
            "\n"
          ]
        },
        {
          "output_type": "display_data",
          "data": {
            "text/plain": [
              "<Figure size 1200x800 with 0 Axes>"
            ]
          },
          "metadata": {}
        },
        {
          "output_type": "display_data",
          "data": {
            "text/plain": [
              "<Figure size 640x480 with 1 Axes>"
            ],
            "image/png": "[encoded data removed]"
          },
          "metadata": {}
        }
      ]
    },
    {
      "cell_type": "markdown",
      "source": [
        "#### Data Retrieval:\n",
        "\n",
        "In this section, I am fetching data from a remote source on the web.\n",
        "\n",
        "- **URL**: The data is located at the provided URL (`data_url`).\n",
        "- **Local Storage**: After fetching, the data is saved locally as `spam.csv`.\n",
        "\n",
        "#### Data Loading into Spark:\n",
        "\n",
        "I load the locally saved data into a Spark DataFrame (`df`).\n",
        "\n",
        "- **CSV Format**: As the data is in CSV format, I use the `read.csv` method.\n",
        "- **Headers and Schema**: The data has headers and I want to infer the schema directly from the data.\n",
        "\n",
        "#### Preliminary Data Exploration:\n",
        "\n",
        "- **Showing Data**: I display the first few rows of the DataFrame to get an initial understanding of our data.\n",
        "- **Schema Printing**: This helps me understand the data types and structure of our dataset.\n",
        "- **Row Count**: By printing the total rows, I get an idea of the dataset's size.\n",
        "- **Descriptive Statistics**: The `describe` function gives me basic statistics like mean, standard deviation, min, and max for each column.\n",
        "\n",
        "#### Text Length Analysis:\n",
        "\n",
        "Analyzing the length of the messages can provide insights into the dataset's nature.\n",
        "\n",
        "- **Adding Length Column**: A new column (`length`) is added to the DataFrame, representing the length of each message.\n",
        "- **Min and Max Length**: By finding the minimum and maximum message lengths, I can understand the range of our data.\n",
        "- **Histogram**: A histogram is plotted to visualize the distribution of message lengths.\n",
        "\n",
        "#### Label Distribution:\n",
        "\n",
        "Understanding the distribution of labels (spam or ham) is crucial for a classification problem.\n",
        "\n",
        "- **Label Counts**: I group by the `v1` column, which seems to represent the label, and count the number of occurrences of each label. This helps understand the data's balance or imbalance.\n",
        "\n",
        "#### Analyzing Words in Spam Messages:\n",
        "\n",
        "To get insights into what words are common in spam messages, I conduct a word frequency analysis.\n",
        "\n",
        "- **Filtering Spam**: I filter out messages that are marked as spam.\n",
        "- **Word Splitting**: Each message is split into individual words.\n",
        "- **Word Count**: By grouping on words and counting, I determine the frequency of each word in spam messages.\n",
        "- **Visualization**: I visualize the top 20 words in spam messages to understand the common themes or words in spam.\n"
      ],
      "metadata": {
        "id": "4UL3jIhkUZFt"
      }
    },
    {
      "cell_type": "markdown",
      "source": [
        "### Dataset Schema - Email Spam Detection\n",
        "- v1:\n",
        "\n",
        "Type: string\n",
        "\n",
        "Description: Label indicating if an email is \"spam\" or \"ham\" (not spam).\n",
        "\n",
        "- v2:\n",
        "\n",
        "Type: string\n",
        "\n",
        "Description: Main content of the email used for analysis.\n",
        "\n",
        "- _c2, _c3, _c4:\n",
        "\n",
        "Type: string\n",
        "\n",
        "Description: Unclear additional columns; require further investigation.\n",
        "\n",
        "length:\n",
        "\n",
        "- Type: integer\n",
        "\n",
        "Description: Length of the email, potentially indicative of spam characteristics.\n",
        "\n",
        "\n",
        "\n",
        "\n"
      ],
      "metadata": {
        "id": "0tR7TDDpadml"
      }
    },
    {
      "cell_type": "markdown",
      "source": [
        "# Section 2: Clean the data\n",
        "\n",
        "10 points\n",
        "\n",
        "Not every dataset is going to be ready to use right away. Take steps to fix incorrect inputs, remove null values, and assign datatypes that fit each feature.\n",
        "\n",
        "### This section should include one or more of the following:\n",
        "- A count of rows before and after dropping data with null or incorrect values, including an explaination of why removing the rows was necessary in [markdown](https://www.markdownguide.org/cheat-sheet).\n",
        "- Renaming a column, adding a new one, or casting an existing one as a different datatype.\n",
        "- Remove punctuation marks, symbols, etc from the data, and convert all upper-case lettering to lower-case.\n",
        "- Remove or fix rows that have bad values/data."
      ],
      "metadata": {
        "id": "Fo1HrJiXbPDN"
      }
    },
    {
      "cell_type": "code",
      "source": [
        "count_before = df.count()\n",
        "\n",
        "df_cleaned= df.dropna(subset=[\"v1\", \"v2\"])\n",
        "df_cleaned = df.filter(df[\"v1\"].isNotNull() & (length(df[\"v2\"]) > 0))\n",
        "df_cleaned = df_cleaned.drop(\"_c2\" , \"_c3\" , \"_c4\")\n",
        "\n",
        "count_after = df_cleaned.count()\n",
        "\n",
        "print(\"Number of rows before cleaning:\", count_before)\n",
        "print(\"Number of rows after cleaning:\", count_after)\n"
      ],
      "metadata": {
        "colab": {
          "base_uri": "https://localhost:8080/"
        },
        "id": "ZD2ISli-bQ3a",
        "outputId": "53792e49-0ed3-4ab5-b1d3-833672c66116"
      },
      "execution_count": 11,
      "outputs": [
        {
          "output_type": "stream",
          "name": "stdout",
          "text": [
            "Number of rows before cleaning: 5574\n",
            "Number of rows after cleaning: 5573\n"
          ]
        }
      ]
    },
    {
      "cell_type": "markdown",
      "source": [
        "Rows with null or missing values were removed to ensure the quality and integrity of the dataset. It's essential to have a clean dataset for accurate analysis and modeling. Rows with null values in important columns like 'v1' (label) or 'v2' (message content) don't provide valuable information and can lead to inaccurate insights or skewed model performance. Additionally, rows with empty messages, even if they were not null initially, were removed as they don't contribute meaningful information to the spam classification task.\n"
      ],
      "metadata": {
        "id": "9K3SkKWxbZeD"
      }
    },
    {
      "cell_type": "code",
      "source": [
        "from pyspark.ml.feature import Tokenizer, StopWordsRemover, RegexTokenizer\n",
        "from pyspark.ml import Pipeline\n",
        "from pyspark.sql.functions import col, lower, regexp_replace\n",
        "\n",
        "cleaning_udf = lower(regexp_replace(col(\"v2\"), \"[^a-zA-Z\\\\s]\", \"\"))\n",
        "df_cleaned = df_cleaned.withColumn(\"clean_text\", cleaning_udf)\n",
        "\n",
        "tokenizer = RegexTokenizer(inputCol=\"clean_text\", outputCol=\"tokens\", pattern=\"\\\\s+\")\n",
        "\n",
        "additional_stopwords = [\"call\", \"your\", \"or\", \"on\", \"from\", \"ur\", \"with\"]\n",
        "stopwords = StopWordsRemover().getStopWords() + additional_stopwords\n",
        "remover = StopWordsRemover(inputCol=\"tokens\", outputCol=\"filtered_tokens\", stopWords=stopwords)\n",
        "\n",
        "pipeline = Pipeline(stages=[tokenizer, remover])\n",
        "\n",
        "df_preprocessed = pipeline.fit(df_cleaned).transform(df_cleaned)\n",
        "\n",
        "df_preprocessed.select(\"clean_text\", \"tokens\", \"filtered_tokens\").show(5, truncate=False)\n"
      ],
      "metadata": {
        "colab": {
          "base_uri": "https://localhost:8080/"
        },
        "id": "1RqTyP3nykZP",
        "outputId": "2bc8e4f0-1eb4-4c06-f0b2-f41d3a8f1381"
      },
      "execution_count": 12,
      "outputs": [
        {
          "output_type": "stream",
          "name": "stdout",
          "text": [
            "+----------------------------------------------------------------------------------------------------------------------------+---------------------------------------------------------------------------------------------------------------------------------------------------+--------------------------------------------------------------------------------------------------------------------------------+\n",
            "|clean_text                                                                                                                  |tokens                                                                                                                                             |filtered_tokens                                                                                                                 |\n",
            "+----------------------------------------------------------------------------------------------------------------------------+---------------------------------------------------------------------------------------------------------------------------------------------------+--------------------------------------------------------------------------------------------------------------------------------+\n",
            "|go until jurong point crazy available only in bugis n great world la e buffet cine there got amore wat                      |[go, until, jurong, point, crazy, available, only, in, bugis, n, great, world, la, e, buffet, cine, there, got, amore, wat]                        |[go, jurong, point, crazy, available, bugis, n, great, world, la, e, buffet, cine, got, amore, wat]                             |\n",
            "|ok lar joking wif u oni                                                                                                     |[ok, lar, joking, wif, u, oni]                                                                                                                     |[ok, lar, joking, wif, u, oni]                                                                                                  |\n",
            "|free entry in  a wkly comp to win fa cup final tkts st may  text fa to  to receive entry questionstd txt ratetcs apply overs|[free, entry, in, a, wkly, comp, to, win, fa, cup, final, tkts, st, may, text, fa, to, to, receive, entry, questionstd, txt, ratetcs, apply, overs]|[free, entry, wkly, comp, win, fa, cup, final, tkts, st, may, text, fa, receive, entry, questionstd, txt, ratetcs, apply, overs]|\n",
            "|u dun say so early hor u c already then say                                                                                 |[u, dun, say, so, early, hor, u, c, already, then, say]                                                                                            |[u, dun, say, early, hor, u, c, already, say]                                                                                   |\n",
            "|nah i dont think he goes to usf he lives around here though                                                                 |[nah, i, dont, think, he, goes, to, usf, he, lives, around, here, though]                                                                          |[nah, dont, think, goes, usf, lives, around, though]                                                                            |\n",
            "+----------------------------------------------------------------------------------------------------------------------------+---------------------------------------------------------------------------------------------------------------------------------------------------+--------------------------------------------------------------------------------------------------------------------------------+\n",
            "only showing top 5 rows\n",
            "\n"
          ]
        }
      ]
    },
    {
      "cell_type": "markdown",
      "source": [
        "#### Data Cleaning:\n",
        "\n",
        "Data cleaning ensures that my analysis is performed on high-quality, relevant data, and removes any unnecessary or corrupted data.\n",
        "\n",
        "- **Initial Count**: I first count the number of rows before performing any cleaning.\n",
        "- **Drop Nulls**: I drop rows that have null values in the `v1` and `v2` columns.\n",
        "- **Filtering**: Further, I filter out rows where `v1` is not null and the length of `v2` is greater than 0.\n",
        "- **Removing Unwanted Columns**: I drop additional columns (`_c2`, `_c3`, and `_c4`) which seem to be not relevant for my analysis.\n",
        "- **Final Count**: I count the number of rows after cleaning and display it.\n",
        "\n",
        "\n",
        "#### Text Cleaning:\n",
        "\n",
        "Before tokenization and word analysis, I need to ensure the text is in a clean and standard format.\n",
        "\n",
        "- **Lowercasing & Punctuation Removal**: The `v2` column is transformed such that all characters are in lowercase, and all non-alphabetic characters (punctuation, numbers, etc.) are removed. This is stored in the `clean_text` column.\n",
        "\n",
        "#### Tokenization and Stopword Removal:\n",
        "\n",
        "This step is essential for text analysis. Tokenization breaks text into individual words or tokens. Stopword removal ensures common words that add little meaning (e.g., \"and\", \"the\") are removed from our analysis.\n",
        "\n",
        "- **Tokenization**: Using the `RegexTokenizer`, I split the cleaned text (`clean_text`) into individual words or tokens. The resulting tokens are stored in the `tokens` column.\n",
        "- **Stopword Removal**:\n",
        "  - I first define a set of additional stopwords that are specific to my dataset.\n",
        "  - I then combine these additional stopwords with the default list of stopwords provided by PySpark.\n",
        "  - Using the `StopWordsRemover`, I remove these stopwords from our tokens. The resulting tokens, after stopword removal, are stored in the `filtered_tokens` column.\n",
        "\n",
        "#### Pipeline Implementation:\n",
        "\n",
        "Using PySpark's `Pipeline`, I create a sequence of data processing stages. This ensures my data goes through each stage in the specified order, making our code more organized and efficient.\n",
        "\n",
        "- **Pipeline Creation**: I specify the stages of our pipeline, which are tokenization and stopword removal.\n",
        "- **Data Transformation**: I fit my pipeline to the cleaned data and transform it. The resulting DataFrame, `df_preprocessed`, has undergone both tokenization and stopword removal.\n",
        "- **Display**: Finally, I display the `clean_text`, `tokens`, and `filtered_tokens` columns of our preprocessed DataFrame.\n"
      ],
      "metadata": {
        "id": "n7IcrRNJWLMP"
      }
    },
    {
      "cell_type": "markdown",
      "metadata": {
        "id": "7vn1ZLLh8WhW"
      },
      "source": [
        "# Section 3: Transform the clean data\n",
        "\n",
        "10 points\n",
        "\n",
        "Once you have clean data, start to prepare it to fit your analysis tools. This might mean using custom code to normalize certain values, joining supplemental datasets, and/or preparing it for machine learning.\n",
        "\n",
        "### This section should include one or more of the following:\n",
        "- Write a UDF to perform a function, then use it to add a new column to your data. Explain why in [markdown](https://www.markdownguide.org/cheat-sheet)\n",
        "- Join an outside data source. (It can be one you've prepared alongside the primary source you're using, as long as you link it)\n",
        "- Split the data into train/test sets\n",
        "- Create vectors for relavent features\n",
        "- One-hot encode catagorical variables"
      ]
    },
    {
      "cell_type": "code",
      "source": [
        "from pyspark.sql.functions import udf, col\n",
        "from pyspark.sql.types import IntegerType\n",
        "from pyspark.ml.feature import RegexTokenizer, StopWordsRemover, StringIndexer, Word2Vec, VectorAssembler\n",
        "from pyspark.ml import Pipeline\n",
        "\n",
        "def compute_length(text):\n",
        "    return len(text)\n",
        "\n",
        "length_udf = udf(compute_length, IntegerType())\n",
        "\n",
        "df_cleaned = df_cleaned.withColumn(\"length\", length_udf(col(\"v2\")))\n",
        "\n",
        "word2Vec = Word2Vec(vectorSize=150, minCount=3, inputCol=\"filtered_tokens\", outputCol=\"features\")\n",
        "\n",
        "label_indexer = StringIndexer(inputCol=\"v1\", outputCol=\"label\")\n",
        "\n",
        "pipeline = Pipeline(stages=[tokenizer, remover, word2Vec, label_indexer])\n",
        "\n",
        "model = pipeline.fit(df_cleaned)\n",
        "df_preprocessed = model.transform(df_cleaned)\n",
        "\n",
        "assembler = VectorAssembler(inputCols=[\"features\", \"length\"], outputCol=\"final_features\")\n",
        "df_preprocessed = assembler.transform(df_preprocessed)\n",
        "\n",
        "train_df, test_df = df_preprocessed.randomSplit([0.8, 0.2], seed=42)\n",
        "\n",
        "df_preprocessed.select([\"final_features\", \"label\"]).show(truncate=False)\n"
      ],
      "metadata": {
        "colab": {
          "base_uri": "https://localhost:8080/"
        },
        "id": "SmoWnXmP098z",
        "outputId": "7ea58c6e-e059-4992-f379-35439591b702"
      },
      "execution_count": 13,
      "outputs": [
        {
          "output_type": "stream",
          "name": "stdout",
          "text": [
            "+------------------------------------------------------------------------------------------------------------------------------------------------------------------------------------------------------------------------------------------------------------------------------------------------------------------------------------------------------------------------------------------------------------------------------------------------------------------------------------------------------------------------------------------------------------------------------------------------------------------------------------------------------------------------------------------------------------------------------------------------------------------------------------------------------------------------------------------------------------------------------------------------------------------------------------------------------------------------------------------------------------------------------------------------------------------------------------------------------------------------------------------------------------------------------------------------------------------------------------------------------------------------------------------------------------------------------------------------------------------------------------------------------------------------------------------------------------------------------------------------------------------------------------------------------------------------------------------------------------------------------------------------------------------------------------------------------------------------------------------------------------------------------------------------------------------------------------------------------------------------------------------------------------------------------------------------------------------------------------------------------------------------------------------------------------------------------------------------------------------------------------------------------------------------------------------------------------------------------------------------------------------------------------------------------------------------------------------------------------------------------------------------------------------------------------------------------------------------------------------------------------------------------------------------------------------------------------------------------------------------------------------------------------------------------------------------------------------------------------------------------------------------------------------------------------------------------------------------------------------------------------------------------------------------------------------------------------------------------------------------------------------------------------------------------------------------------------------------------------------------------------------------------------------------------------------------------------------------------------------------------------------------------------------------------------------------------------------------------------------------------------------------------------+-----+\n",
            "|final_features                                                                                                                                                                                                                                                                                                                                                                                                                                                                                                                                                                                                                                                                                                                                                                                                                                                                                                                                                                                                                                                                                                                                                                                                                                                                                                                                                                                                                                                                                                                                                                                                                                                                                                                                                                                                                                                                                                                                                                                                                                                                                                                                                                                                                                                                                                                                                                                                                                                                                                                                                                                                                                                                                                                                                                                                                                                                                                                                                                                                                                                                                                                                                                                                                                                                                                                                                                                              |label|\n",
            "+------------------------------------------------------------------------------------------------------------------------------------------------------------------------------------------------------------------------------------------------------------------------------------------------------------------------------------------------------------------------------------------------------------------------------------------------------------------------------------------------------------------------------------------------------------------------------------------------------------------------------------------------------------------------------------------------------------------------------------------------------------------------------------------------------------------------------------------------------------------------------------------------------------------------------------------------------------------------------------------------------------------------------------------------------------------------------------------------------------------------------------------------------------------------------------------------------------------------------------------------------------------------------------------------------------------------------------------------------------------------------------------------------------------------------------------------------------------------------------------------------------------------------------------------------------------------------------------------------------------------------------------------------------------------------------------------------------------------------------------------------------------------------------------------------------------------------------------------------------------------------------------------------------------------------------------------------------------------------------------------------------------------------------------------------------------------------------------------------------------------------------------------------------------------------------------------------------------------------------------------------------------------------------------------------------------------------------------------------------------------------------------------------------------------------------------------------------------------------------------------------------------------------------------------------------------------------------------------------------------------------------------------------------------------------------------------------------------------------------------------------------------------------------------------------------------------------------------------------------------------------------------------------------------------------------------------------------------------------------------------------------------------------------------------------------------------------------------------------------------------------------------------------------------------------------------------------------------------------------------------------------------------------------------------------------------------------------------------------------------------------------------------------------+-----+\n",
            "|[0.01111917851085309,-0.00538860176311573,0.014370513119501993,0.008608704854850657,-0.012178238881460857,0.015462169249076396,0.001557059833430685,0.017113338035414927,0.01305427596798836,0.003417648982576793,-0.012391310083330609,-0.019749626808334142,0.014291101921116933,-0.009787538045202382,0.015873102471232414,0.010612983440296375,-0.009596269854228012,-0.014922068030500668,-2.354955668124603E-4,0.005083284588181414,0.001984009944862919,-0.0012439864440239035,0.00853818672021589,0.028121817449573427,-0.008359624742297456,0.018369101206189953,0.0032584015552856727,0.004614021807356039,-0.001976574936634279,0.02090465754736215,-0.0034712491906248033,0.01914458350802306,0.009876051891069437,-4.929383248963859E-4,-0.007274845607753377,-0.009162470189039595,-0.002885424895794131,-0.002804556155751925,-8.916920287447283E-4,-0.02834371427888982,-0.02020640049886424,-0.007693920226301998,-0.020112607860937715,-0.014842980657704175,0.007162570633227006,0.0010916609717241954,-3.2335171908925986E-4,-0.005809932055854006,-0.006783235527109355,0.00864554311556276,-0.017237538610061165,-0.007097100000464707,0.008016019866772695,0.010311857113265432,-0.010980136212310754,-0.006963375668419758,0.0033893477802848793,-0.014361336463480256,0.02112721060984768,0.01334692444652319,0.01106793658254901,-7.264292325999122E-4,0.007621465592819732,-0.011846559878904372,-0.006135640863703884,-0.011236715559789445,-0.006381282866641413,0.012448469686205499,0.011367586033884436,0.005499128039446077,-0.015496908585191704,0.00564264406420989,0.003164282801662921,-0.0018010022768066847,6.656033601757372E-4,-0.0010128054491360672,-0.014721945757628419,-9.548284197080648E-4,0.01952280188561417,-0.0067948929136036895,-0.005273059319733875,-0.0012535329387901584,-0.0015617828530594124,-0.003177511256581056,-0.001870255224275752,0.010419255513625103,-0.004050348248711089,0.012869949932792224,0.006724513710651081,-0.014375856699189171,0.014320214912004303,0.0027377946953492938,-0.002810691155900713,0.008230363917391514,0.024494791388860904,0.0048831452513695695,-0.024040675605647266,0.0065089203944808105,-0.001868514352281636,-0.0041656630965007935,-0.007650095029930526,0.005828120571095496,0.019944012572523206,-0.004846938682021573,-0.005921548745391192,0.01684628807743138,0.0044869227494928055,-0.005275918374536559,0.007166016981500434,-0.0022282857353275176,-0.0030835423967801034,0.003292680315553298,0.005161549521289999,0.008357302713193349,0.0016549495812796522,0.009818473110499326,0.006383373074640986,0.01036039996688487,0.009321559176896699,-0.002998108187057369,0.002380220015766099,0.0012739581143250689,-0.004349745602667099,0.006376844270562287,-0.004748596664285287,-0.007877219686633907,0.0030014006042620167,0.0026497801081859507,-0.011001071943610441,0.0019105390874756267,0.006826471675594803,-0.011547010632057209,0.0031395028472616104,0.020838330528931692,-0.010860647089430131,0.010875227691940381,-0.0035019037750316784,-0.006995011259277817,-0.020744281020597555,0.019709451116796117,0.006266060387133621,-0.007831067092638477,0.0071849422638479155,-0.0028856425847152423,-0.0013750242014793912,0.008473060053802328,-0.012616481333679985,-0.002312423306193523,0.006655345328908879,-0.012295361753785983,111.0]                                |0.0  |\n",
            "|[0.007815101572001973,-0.007520532448931286,0.008435947160857419,-0.0021858228477261337,-0.012397498765494674,0.009111881256103516,-0.0011518413666635752,0.028211175978261355,0.011505213876565296,-0.005935981889100124,-0.025617580488566695,-0.022462964174337685,0.018446754926117137,-0.010376830119639635,-7.777338032610714E-5,0.022053446791081417,-0.01285336073487997,-0.019760558129443474,-4.2943218431901187E-4,0.007645968910461912,-0.01629722910001874,-0.002819741261191666,-0.009463566258394469,0.012640432677775,-0.0013755629770457745,0.008031643393527094,0.0031485449289903045,-0.004187570671395709,0.0017521815316285938,0.022298099705949426,-0.01431283962665475,0.004773593068724343,0.022181595287596185,6.709655669207374E-4,-0.006403530491904045,-0.01609167765127495,-0.01776807965749564,0.012376132362987846,0.005141068356654917,-0.03211002013025184,-0.044691758463159204,0.004669743085590501,-0.011127481896740694,-0.017141683880860605,-0.013459260517265648,0.0033570611461376148,0.008938250842523605,0.01217091087407122,-0.019228245286891855,0.018171546774586506,-0.021532793529331684,-0.010624033660860732,0.00403411880445977,0.024228136520832777,-0.013357107508151481,0.0020878339807192483,0.00650593985725815,-0.009298023263302941,0.021210512500450324,-0.00418883292877581,0.024551875811691083,0.005271144929186751,0.014166705290942142,-0.02085590521649768,0.005050297850781741,0.0023537294400739484,-6.278907385421917E-4,0.005208284259424545,-0.008369598819020514,0.017421529948478565,-0.019821233756374568,0.02318330859998241,0.008939466497395188,-0.005400236773615082,-0.0015403785898039737,0.011033584567485377,-0.03283866211616744,-0.008991454116767272,0.01536144232765461,-0.022546503925696015,-0.010596310390004266,-0.013262925873277709,0.009698915232244568,-0.00777997116286618,-0.018059814853283264,0.029647577786818147,-0.006636661069933325,0.029511439031921327,-0.003152808455827956,-0.008941483567468822,0.01656347586928556,-3.3029801973801415E-4,-0.006031708888864765,0.008163503836840391,0.025711834314279258,0.013006676027240852,-0.015512158628553152,0.027164991081614666,0.0032686501411565887,-0.011882047188313056,-0.03132854792056605,0.013995667609075705,0.026844351921075333,-0.0053712997857170795,-0.014022937966122601,0.03272691206075251,-0.0207467545211936,-0.027427493143477477,-0.004369789404639353,-0.003210107854101807,0.005342605669284239,-0.005643430396351808,-0.01015996864104333,0.014593124292635668,0.013645275981010247,0.02914300130214542,0.014615034306189045,-0.017382313109313447,0.007007629193443184,-0.007346868214275067,-0.027204444437908627,-0.0025326056202175096,-0.009234679484507069,0.02973381023669693,-0.007210850497358479,-0.006403201802944143,0.01697996330525105,-0.01650647496990132,-0.010060309975718457,0.005770677564820895,0.003239281727777173,-0.013447965825131783,0.0020237078721644743,0.010016555437080871,-0.01222527395778646,0.006579641834832728,0.011636405632695338,0.00203247547809345,-0.006504419802998503,0.024653367766101532,0.012620587872030834,0.002142467516629646,-0.005075495224446058,9.495935713251431E-5,0.008121433376800269,0.0048629056345816934,-0.004955083767223792,-0.004373328605045875,0.0037370105662072697,-0.030256021942477673,29.0]                                                        |0.0  |\n",
            "|[0.008745295024709776,-0.0031046340169268664,0.01301747364050243,0.017328414251096547,-0.0017898166377563031,0.020397082350973508,0.003489120426820591,0.018267684525926597,0.01440316419757437,0.013255696988198907,-0.002412371849641204,-0.0182670810027048,0.012835013947915287,-0.015632834308780732,0.024029174842871728,0.0063501529482891785,-0.007609959159162827,-0.022595481282041877,0.0025429701359826144,0.011226224044366974,0.0073486503679305315,0.004313984519103542,0.009336343640461564,0.03169802133925259,-0.012459825721452945,0.026060480833984913,0.0070809465415550225,0.004769324406515807,-0.003013802293571644,0.020796274463646115,-0.005933219441794791,0.025070827011950316,0.009381389981717803,-0.010466071961673151,-0.013445847458206118,-0.005321096314582974,-0.006064093607710675,0.002690796357637737,0.004795586378895678,-0.03335773969301954,-0.02822932648705319,-0.009320304094580933,-0.024869625153951348,-0.009351552149746567,0.016613011772278696,0.0024669077320140786,-7.188695395598188E-4,-0.004053918365389109,0.001070744923708844,0.01206171362719033,-0.02328522965544835,-0.0014681099419249222,0.010560642217751593,0.014354052089038305,-0.014685103029478341,-0.007112238771514967,0.012359092221595348,-0.020230273850029335,0.017725694738328458,0.015514629427343607,0.0062133277097018436,-0.007178265223046765,0.011086653196252884,-0.01242659823037684,0.0020803912135306745,-0.005437002889811993,-0.0092552398389671,0.012806845991872252,0.02009174096165225,0.00893814615210431,-0.02147248167311773,0.0024812876188661905,-0.004453961763647385,-7.028292668110226E-4,-0.0035672250669449568,-0.0022839536977699026,-0.025966601321124473,-0.002455187332816422,0.02028214763849974,-0.008833462261827662,-0.007133576273918152,-0.0032689707786630606,-0.004098082311975304,-0.0017688685493340017,0.0010775335947982966,0.012401593735557982,-0.0027267033059615643,0.014691265900910367,0.015809687864384615,-0.016768565704114734,0.009660687315044925,-0.001697315757337492,-0.0018830071465345101,0.013094168948009612,0.015105467825196684,0.0016575878646108322,-0.0326406387379393,0.0011178552689671052,-0.007834706327412278,-0.0024547386274207383,9.832886127696839E-4,0.007571772295341362,0.021746365039143713,-0.004210596272605472,-0.006050731294089929,0.024159706474165432,0.009071177541045472,-0.0021041393105406315,0.01314384478610009,0.005082067503826693,-0.011745171481743456,9.005978814457194E-4,0.008608183654723689,0.010902324551716448,0.009326812310609967,0.001303600217215717,0.005320179936825298,0.019800899887923152,0.010116053457022645,0.004758761674747803,0.004228357062675059,0.0025148524757241833,-0.008380009722895921,0.008890550953219644,0.0020377062101033516,-0.013959780044388026,0.006070138805080206,0.007111962197814137,1.8121593166142704E-5,-0.0025478244497207925,0.008409517935069744,-0.007733775169253932,0.004747592312924098,0.0239311384386383,-0.013322048459667713,0.014341884007444607,-0.0030187253054464237,-0.007070234371349216,-0.018626037682406605,0.016839184891432525,0.00815261052630376,-0.017677711808937603,0.00423618340282701,-0.0028795984981115907,0.0021106312240590343,0.01419225509162061,-0.021616107362206094,-0.0037118756576091983,0.00638984529505251,-0.01709900702117011,155.0]                                                 |1.0  |\n",
            "|[0.014385031743182076,-0.010974827584707074,0.01661840991841422,0.0013727575747503175,-0.01916998252272606,0.01677177215201987,5.190814457212884E-4,0.04764192799727122,0.020840554498136044,-0.006134798776151405,-0.036976780742406845,-0.040473749654160604,0.029117728376554117,-0.01639690948650241,0.006894397963252332,0.033032480006416634,-0.021833156649437215,-0.03182349084979958,-0.002274845170581506,0.011087832351525623,-0.018979560318661645,-0.007014738237355939,-0.010422038633906696,0.025061259822299082,-0.006708425676657094,0.02534250056164132,0.0056614436778343385,-0.005486139089852157,0.0024590051422516503,0.03727493373056252,-0.019537457743556134,0.015747444911135566,0.03305399319570925,0.0021544182400248246,-0.013099513223601712,-0.024360701390024688,-0.023524527800165944,0.01703075331170112,0.00931269011925906,-0.053071413603093885,-0.06727003306150436,0.006975171389058232,-0.022568151975671448,-0.031064409969581496,-0.016664160169764526,0.006751454021367761,0.011801545087817228,0.0156502490863204,-0.02926102332356903,0.025232258666720655,-0.034842032111353345,-0.01566871726471517,0.009116797087093193,0.040171999070379466,-0.020980183966457844,-4.1530467569828033E-5,0.011727639435169596,-0.016219895229571395,0.03338509508305126,1.4752413456638652E-4,0.0389520941923062,0.0058559585078102015,0.02006136835552752,-0.03238970703548855,0.0041985873184684245,-1.4419107174035162E-4,-0.005171138715619842,0.01370749415622817,-0.004210265149595216,0.027369743213057518,-0.0325946236650149,0.02944151244850622,0.01410437921165592,-0.009492751185057892,-0.0024489311035722494,0.011199357201500485,-0.05050523661904865,-0.013372768195242517,0.029566992902093463,-0.03169896939976348,-0.020349141003357038,-0.01832952039937178,0.010488748783245683,-0.01022415196833511,-0.02569195071959661,0.04355723144383066,-0.010461252027501661,0.0447328384551737,7.313810702827241E-5,-0.01882681395444605,0.030113767211635906,4.537490474629319E-4,-0.007968935533426702,0.012425006367266178,0.042547558123866715,0.022431691435890064,-0.030754654564791255,0.040132798099269465,0.005811582681619459,-0.01761505038787921,-0.04429954745703273,0.020576694721562993,0.04031478427350521,-0.007126284944307473,-0.018372745770547125,0.052836322949992284,-0.026466588179270424,-0.03949431617123385,-0.0018582276534289122,-0.005295640685492092,0.00493235164321959,-0.006635279957360277,-0.011242414811729556,0.020150635831264984,0.01906158312016891,0.04215764875213305,0.023805507148305573,-0.017850562360965543,0.012034380704992347,-0.009458395626602901,-0.035206254736597956,-0.003107755648670718,-0.016629318706691265,0.041678315338989094,-0.010220526355422204,-0.01197020833690961,0.025185454429851636,-0.02150803431868553,-0.018567554600950744,0.010625090967449876,0.007488696628974543,-0.022757128915852968,0.008002373787652079,0.02338072895589802,-0.02116977206120888,0.016850506576399006,0.014633189007225962,4.414492674792806E-4,-0.01683682058420446,0.03870620599223507,0.018169698460648455,0.0018290402367711067,-0.0034392944200792243,-0.0018075693385779029,0.008531050032211674,0.011903511101586951,-0.010858764768474631,-0.0066574424919154905,0.006992989607776204,-0.04597180253929562,49.0]                                                                                |0.0  |\n",
            "|[0.015826404101972003,-0.00806801519865985,0.01875232606107602,0.018231275549624115,-0.008882000649464317,0.008414940239163116,0.007846422638976946,0.012725290449452586,0.021555067592998967,0.007701658192672767,-0.008735868163057603,-0.021607264410704374,0.007443948670697864,-0.00467672494778526,0.015445196608197875,0.003348545218614163,-0.011116594054328743,-0.00586799431766849,0.002423252197331749,0.005374160857172683,0.009524703680654056,0.001768962829373777,0.019151484681060538,0.023085605454980396,-0.015445966317201965,0.032836101250723004,-2.4690402642590925E-4,0.0061951756943017244,-0.0037079190733493306,0.018941955859190784,0.002187977501307614,0.025632912147557363,0.003783807835134212,0.005351437866920605,-0.01133720842335606,0.001930339218233712,-0.0017973619542317465,-0.00330859242239967,-0.001574382811668329,-0.02320449640683364,-0.007021824523690157,-0.002491261751856655,-0.02037502844177652,-0.016419396444689482,0.0071617446483287495,0.009210637839714764,-5.494672750501195E-4,-0.014129007198789623,-0.010025084084190894,-1.1947693565161899E-5,-0.00911626063316362,-0.0030631751142209396,0.007233242959046038,0.012058518113917671,-0.00216766993253259,-0.002105476254655514,5.694533647329081E-4,-0.010685344386729412,0.018698852021771017,0.019022668348043226,0.010129499564982325,-7.35896302103356E-4,7.718556335021276E-4,-0.011280586128123105,-0.013346174979233183,-0.01117348624393344,-0.0061969503803993575,0.013139033668267075,0.015840627704164945,0.008694708867551526,-0.014173131276038475,-0.0059087358677061275,0.0042893267891486175,-0.0037820413908775663,-0.004676924625528045,-0.006651992043771315,-0.011760058958316222,-0.001456454730941914,0.020605994679499418,-0.0031026903307065368,-0.011838122649351135,0.006892230900120921,-0.0054539890988962725,0.0021476861074916087,-0.002536940446589142,3.1922671041684225E-4,-0.006339650077279657,0.006560422967595514,0.01337534748017788,-0.01131120219361037,0.013672483240952715,0.0070318679536285345,0.0036949781351722777,0.01364947107504122,0.031874574604444206,0.011087415041401982,-0.017729338913341053,0.001314629836997483,0.004576037167225877,-6.973444942559581E-4,-0.00449745776495547,0.004973549186615855,0.010218666022410616,1.0337456114939414E-4,7.832373376004398E-4,0.015140901814447716,0.012759885750710964,0.0023877227431512438,0.016529722983250394,-0.005661186289216857,-0.005354447152058128,-0.001877997230621986,0.010659857842256315,0.0021675864882126916,-0.003846283454549848,0.004145312213950092,0.011422824376495555,0.013942622521426529,0.008887801872333512,0.0011438275105319917,0.009939428826328367,4.67145435322891E-4,-0.006326960334263276,-0.0012723552936222404,-0.00376008325474686,-0.013993952132295817,-0.00545316420175368,0.007815745484549552,-0.017021545965690166,0.002946251777757425,0.014781600308197085,-0.017680556731647812,0.003121208699667477,0.0258609329466708,-0.010997842837241478,0.012271713472728152,-0.010436649132316234,-0.007155066181439906,-0.025941448751837015,0.015468393932678737,0.0026502376913413173,-0.0070933565439190716,0.009803538894630037,0.0016668072676111478,-0.00292343186083599,0.013202441052271752,-0.013659870615811087,-0.006831277467426844,-8.816166664473712E-4,-0.012319544454612696,61.0]                                               |0.0  |\n",
            "|[0.013883205315591219,-0.006793283679358223,0.016960386563475954,0.012118714902659549,-0.012956449056646842,0.01331417603582582,0.003739736008676974,0.013913878938183188,0.01578057001974872,0.004734485370778095,-0.01114101564812967,-0.0213764496421551,0.010828499233706252,-0.006879383739193573,0.018150394125019804,0.007189173162366976,-0.010181555993553689,-0.011745239881908192,-7.23996277563E-4,0.004586919820319642,0.005455220813232967,-7.747181768054896E-4,0.012936398743049186,0.026508562547592995,-0.011468415771720602,0.023064351558466166,0.0018259402050342247,0.006487463258535546,-0.0035150781212210215,0.019952298005056733,9.83087736291482E-4,0.02199174675350899,0.007178590457496124,0.0027014693786280557,-0.00884408559924101,-0.0059286522206521645,-0.0011361925434732042,-0.004716276358950006,-0.0019716029650333118,-0.026171913753975838,-0.012409909303053556,-0.007773373084252372,-0.021223892190712777,-0.015435983913074084,0.007672828005845933,0.00360240729231223,-6.851129574523142E-4,-0.010455081225646768,-0.00783942628870992,0.004611887825269471,-0.014251202673596494,-0.006010373182909782,0.007300090702141032,0.008924923094181234,-0.0070250838573830314,-0.0059825403834967055,0.001466741501216722,-0.01245562732904492,0.019415113212102476,0.017519523074631307,0.010242545169175547,-0.0013241175252273131,0.004327849666451049,-0.011557826607981148,-0.009206827168407686,-0.014201672295765841,-0.005676356972852612,0.01357836540624061,0.01284233688185101,0.004431218069786315,-0.013835621422485393,-2.2358446286114699E-4,0.0034801817074527636,-0.0033812008075662613,-4.20890815268435E-4,-0.0037130933213869437,-0.011993204289704889,8.526540306561133E-5,0.01913994162425618,-0.00431285408215926,-0.007686197435866822,0.0027463259004220806,-0.0021749342148027874,-8.333525613445946E-4,-9.299893765059737E-4,0.00456397926352699,-0.0032493811039089717,0.00907149475396556,0.010391182209680076,-0.012149597209987833,0.015499086790334652,0.005967312601997571,-4.286439843246412E-4,0.008280010722741923,0.02810001204831197,0.006741687415770309,-0.021763432277914354,0.004056868151939639,8.918903083266581E-5,-0.0030178103535196416,-0.0059616002064799166,0.004557025016230696,0.016735179986640373,-0.003391624733066077,-0.003455156388500815,0.014791662065202698,0.009470569257460097,-0.0016444158870452905,0.012360328616683973,-0.0036683113105348583,-0.0035387295339366093,0.002579757087112418,0.008900580016950913,0.006778934316517895,-0.0025613260564996917,0.005492283493581721,0.006983916884671678,0.013432264752576455,0.008353129638742436,-0.0027952360396739095,0.008061198212945942,0.0016403119987123372,-0.004211398753207451,0.0022906758975509813,-0.0038572179276824873,-0.009595737676136196,-0.0011858057251254864,0.00649747256316272,-0.01422747110208387,0.0028972283505615502,0.010490487767931293,-0.014420428874847643,0.0033150734653805986,0.02162602829390808,-0.009997900647302979,0.012017353739151183,-0.006042472130502574,-0.007920315585044376,-0.023401821984032935,0.01675572953022578,0.004140734633170616,-0.006837747926029431,0.00935682699577335,-0.0023032756700344824,-0.0031398604820852224,0.010049002460779293,-0.012996509725994924,-0.004755697195993408,0.0027212898541406237,-0.010661409346058089,147.0]                                         |1.0  |\n",
            "|[0.007614484507939778,-0.003408476593904197,0.002974961986183189,0.003946516430005431,-0.00737005504197441,1.4051503967493773E-4,0.0010117723086295882,0.0031028205703478307,0.0036869834875687957,0.0012540026509668678,-0.008027090661926195,-0.007104756683474989,-0.002335406345082447,0.004585208556818543,0.0038184786681085825,0.0032889280264498666,-0.004780977993505076,0.0037788905756315216,-0.001927050790982321,6.974609568715096E-4,0.0017222848546225578,-0.0015131983964238316,0.007658823626115918,0.004479375797018292,-0.0033037336252164096,0.007847231114283204,-0.003674668234452838,0.0029298212903086096,-0.0042014045611722395,0.00692257474293001,0.0024144894414348528,0.011044129671063274,0.0024036638205870986,0.007899170654127374,-0.0020184579771012068,-0.0011540041068656137,0.00225453355233185,-0.005084783082565991,-0.0035061486487393267,-0.005492743341164896,0.0030444120639003813,2.6688801881391555E-4,-0.00449321634368971,-0.0056093822058755904,1.5639443881809711E-4,0.004259396140696481,-4.57608257420361E-6,-0.005939783244684804,-0.007139539903619152,-0.002244126459117979,1.7049635061994195E-4,-0.0036327440193417715,0.003581322613172233,-0.0034789949568221346,0.0014281249532359652,-0.004362441701232456,-0.0033057413311325945,-7.205416331999004E-4,0.0037672356702387333,0.006020094355335459,0.0056490219867555425,0.0019117249266855652,-0.0014173459676385392,-0.00395160310290521,-0.00827019679127261,-0.007090303930453956,1.65692123118788E-4,0.004617785452865064,-9.751245024745003E-4,-0.0023921490646898746,-0.0012506252387538552,-0.0015940097073325887,0.0037580390053335577,2.18710774788633E-4,-0.0011652134853648022,-0.004865810107730795,0.004046599118737504,-0.0011303944993414916,0.003989938762970269,-0.0015454780259460676,-0.0010192253539571539,0.0020350587328721303,-4.985906562069431E-4,0.0018523118051234633,4.501169314607978E-5,-0.003761500385735417,-0.0031264145582099445,-0.0029371557175181806,5.631238891510293E-4,-0.0024624657817184925,0.006866807379992679,0.006954426053198404,5.812182644149289E-4,5.409714940469712E-4,0.0114293351653032,0.004251077931257896,-0.003965772746596485,0.0014329846599139273,0.0015120469470275566,-0.00205143980201683,-0.004719960125385114,-0.002469674975145608,0.0024128817494784016,0.0013775512634310871,4.833580751437694E-4,0.0012092899705749005,0.004832803446333855,-0.0016244623075181153,0.0038491854320454877,-0.00554399739485234,-0.0010110282819368877,9.285689266107511E-4,0.0037057209701742977,2.60139764577616E-4,-0.004521421178651508,0.002932675717602251,0.0036843187699560076,0.0035885492543457076,9.609416920284275E-4,-0.0030510593360304483,0.005640421150019392,6.552431877935305E-4,4.912004151265137E-4,-0.0033189820296684047,-0.0047630783810745925,-0.0026897605930571444,-0.003788310160416586,0.004427204033163434,-0.00856238990672864,0.003896822570823133,0.003276671122875996,-0.009263447718694806,-9.957720612874255E-5,0.006290584045927972,-0.001154170313384384,-9.50071553234011E-5,-0.005048149923823075,-0.003424039066885598,-0.007658627553610131,0.0029309997626114637,-0.0012201791469124146,5.408992728916928E-4,0.003169901523506269,-0.001659139437833801,-0.0022188237053342164,0.0020703719492303208,9.148751123575494E-4,-0.0022988342388998717,-0.0037028989172540605,0.003309571708086878,77.0]|0.0  |\n",
            "|[0.002648475079331547,3.411454696712705E-4,0.0033673459159520767,0.001536700779494519,-0.0022748049445605527,0.004897746214798341,4.278308964179208E-5,0.0027861210129534204,0.0024061979570736487,0.0010705123102222084,-2.6879110373556613E-5,-0.0038062684664813182,0.0028943621126624446,-0.003662606266637643,0.004988965772402783,3.982385426449279E-4,-0.0012945516655842463,-0.00592165999187273,-4.2900184635072944E-4,1.39564690956225E-4,7.49624982321014E-4,1.439161889720708E-4,0.0020844279982460043,0.00771901459277918,-0.0024943216587416826,0.0034068169615541896,0.0010251767807252085,0.0033242698681230348,7.040521750847498E-4,0.0048883846534105635,8.097195231433336E-4,0.0049791608452020835,0.0022239933876941603,4.581415676511824E-4,-4.3794914381578565E-4,-0.003732327821974953,-3.25524152382665E-4,-0.0025644694843019048,-5.473636866857608E-4,-0.006270477544361105,-0.004439869224249075,-0.0042766447198422,-0.007194647829358776,-0.004118935313696662,0.004544730732838313,-4.053600908567508E-7,-2.639879026294996E-4,-4.306549051155647E-4,5.862392329921325E-4,0.002814848263127108,-0.00504055479929472,-0.0014801858303447565,0.002885835210327059,0.00347797458137696,-0.0040546471757503845,-0.004266692242041851,5.03053143620491E-4,-0.005410247303855916,0.004181260708719492,0.005944958115772655,4.698535311035812E-4,-0.001152248278958723,0.002248320181388408,-0.0011791513730713631,-0.0014552756678313018,-0.004133640932074438,-0.0023337514013595257,0.0029855064648775928,0.004670915574145814,-6.402700916320706E-4,-0.0033126539725344627,0.001564174766826909,1.4956130568558971E-5,-5.751745557063259E-4,0.0024435691580341275,6.252031462887922E-4,-0.0033130486515195417,0.0012609652185346931,0.0034687815234065054,3.428692842135206E-4,0.001169608413086583,-2.7406089793657884E-4,-4.7069248006058236E-4,-0.0018014412431512027,6.197999309127529E-4,3.693199697105835E-4,-1.1345984336609641E-4,0.002709119926051547,0.001279134371240313,-0.005062274332158267,0.003935063936902831,0.001073210562268893,-0.001364760019350797,-3.479437960777432E-4,0.004942412410552303,-7.141283014789224E-4,-0.007684016672040646,0.002699413783557247,4.3961008389790853E-4,-0.001221594291079479,1.4738026754154514E-4,9.569272272832071E-4,0.006167950826541831,-0.0020520395463487755,-0.0010894286698506523,0.0028379959704276795,0.001133142466035982,-0.001211366551675989,8.439607763042052E-4,-0.0023944968760285217,4.287721744428078E-4,0.0019390706860576755,0.0025104003444236392,0.0027839736222328307,1.3408273419675729E-4,-4.706244372452299E-4,4.188058665022254E-5,0.004642348032211885,9.666788876832774E-4,-0.0014719212199755323,0.0022084232497339446,5.58519702948009E-4,-6.99832917113478E-4,0.0012391399107097337,1.1771118831044684E-4,-6.242271323571913E-4,-8.615986250030498E-5,0.004146817768923938,-0.002661903753566245,0.0015104856807738542,3.4910465668266016E-4,-0.003381945022071401,0.0022173783625476064,0.004952348551402489,-0.004194245619388918,0.0020882948680082335,-1.2069929119509955E-4,-0.0038317400283024955,-0.0036999269873679926,0.003631285001756623,4.752258226896326E-4,-0.0019866090617142616,0.003385376336518675,-0.0042496751217792434,-9.871624875813722E-4,0.0014384848162687072,-0.0031837821550046402,-5.501350640164067E-4,0.0022864068479975684,-0.0010331522906199097,160.0]  |0.0  |\n",
            "|[-3.1941319217107126E-4,0.0020044486175590593,0.00488437688077933,-0.0021901449654251337,-0.004680590437991278,0.015654786005533033,-0.00428951670515484,0.003477349996891072,-0.0013938112117882285,-1.0960860111351523E-5,-0.0052141779035862,-0.003252463722934148,0.006049469200661406,-0.00812111811163569,0.013259120917479906,0.0022761985809276147,-0.001705355173076636,-0.011318446037226489,-0.0020526105633637466,0.004278223121738327,0.005883221710973885,5.114544370111876E-4,-2.076084492728114E-4,0.019108828390017152,-8.383218498368347E-4,-0.0010409491702115961,0.003144158916256856,0.0026594813680276275,0.00403424452607786,0.005793098593130708,-0.001321196772291192,0.007047171139025262,0.0020209081454335576,-0.006200999377012652,-0.006588614412716456,-0.0062869520541945735,0.0016433523352524,-0.006161298735865525,7.118498074955174E-4,-0.010705826970349464,-0.008436404792259313,-0.015348775445350578,-0.01116179120020076,0.0015059062279760838,0.013722008739672933,-0.007499813497166282,-0.002167602014586529,-0.0013449137082456478,0.004432018563550497,0.010262600354118539,-0.016189276124350727,-0.0031546004216319746,0.0023082499491075786,-0.0012565823853947222,-0.004696890038238572,-0.00944838799270136,0.007141937742874558,-0.00954196708958729,0.013941206836274691,0.009399400824414832,-0.0011652367788233928,-0.003256752267978819,0.004952357713981265,-0.004142425205957676,0.0029707738597478184,-0.01071082694189889,-0.003824656247161329,-3.913901268138683E-4,0.010304715101873236,-0.0010394198221287557,-0.0059328159716512474,0.005999721079466066,-0.002283129423241397,1.310392253799364E-4,0.00456367596052587,0.002292420049863202,-0.006936218656067337,0.0020643354613899384,0.009220338725884045,0.0018295436831457274,0.004213152969376616,-0.003225314306161765,0.0040992799830356875,-0.002802870392250562,0.003826137299516371,0.01043427546392195,0.0027906456161872484,0.005107646791397461,0.0029548507050744122,-0.008104710041412284,0.005251567428266363,-1.8305687366851738E-4,-0.00399842433190705,0.0053779815207235515,0.0017480584169139285,-0.005919330828224442,-0.01822248623440308,-0.003949299172485813,-0.005116889005876146,0.0012011284655142973,0.002503725650188114,0.003412159134833408,0.01768514178028064,-0.009165314400369036,-0.007253632315301469,0.004180035038319017,8.254130952991545E-4,-0.001921454424778598,0.005959374805180622,0.0046092371672524935,-0.004240226782193141,0.011250516067125967,0.006577299616765231,0.002064013130231095,0.0047003081791834635,0.0023281304581489943,-0.004507951026815654,0.014983558470183716,0.007787098875269294,-0.002036272897385061,0.001055982753834022,0.0015079218140142204,0.0030236318125389516,0.0024252653570978767,0.0037460691362087213,-0.002037298017447548,0.0015533714571834673,0.009650852824311835,0.003792487151388611,0.0012789233878720552,-0.0013488650604683372,9.421601509010153E-4,0.0026075486592682345,0.009200557567445295,0.0017926899433535124,0.004996603171873305,0.004839073035067746,-0.006328364102435963,-0.010183158829542143,0.0030146749715121196,4.6093026633440914E-4,-0.008616480433764602,0.005996629354610507,-0.0052528329397318885,-0.0036737167060242166,6.157696978854281E-5,-0.0076280971448535895,0.0019853886665909416,0.008446941385045648,-0.0026327234310364084,157.0]                     |1.0  |\n",
            "|[8.995149071173122E-4,-0.0012603964346150557,0.003104012133553624,0.015179342202221354,0.008854806116626908,0.019852314757493633,-1.4073506851370134E-4,0.03120369085421165,0.00865653680715089,0.01438756452407688,-0.0020719085296150297,-0.01793332779003928,0.015966389855990807,-0.02320223581045866,0.01814675806090236,0.011737612206100796,-0.006551091351623958,-0.03286190673243254,0.0038812529353890565,0.015685693937120958,-0.005445004324428737,0.0029766429254474737,-0.004859851827253199,0.021823524202530583,-0.010180533692861597,0.022896028542891144,0.01138140208980379,-0.005625870773413529,-0.0025340861990116536,0.021835457597626375,-0.018052566641320784,0.018177045105646054,0.02052275501191616,-0.02125948593020439,-0.01916805379635965,-0.004889585535662869,-0.021585334154466788,0.022148203927402695,0.014453747234074398,-0.040670045814476904,-0.05799967981874943,0.0029840819692860047,-0.020653915397512417,-0.003625180036033271,0.008703203204398354,0.004967165683046915,0.007749183860141784,0.01752656903117895,0.001078409825762113,0.02172820655784259,-0.031176460620675545,0.002056957750270764,0.014059782901313156,0.03185111209750176,-0.023707148308555286,-4.3492482897515096E-5,0.02581389864596228,-0.021100802608998492,0.012180018844082952,-0.006040368531830609,0.014559886773349717,-0.008173767539362112,0.01969844385360678,-0.017022422150087854,0.022403554858950278,0.014028359840934475,-0.008176054603730639,0.011259134967500965,0.011595300326977545,0.02095399791530023,-0.03176926972713166,0.015475453040562569,-0.007790218208295604,0.0013442764698993414,-0.009059798356611281,0.009404681397912402,-0.0512744886179765,-0.008314033893111628,0.015364554043238362,-0.022692618410413465,-0.011990859242117343,-0.014184634022725125,0.002871657411257426,-0.004342067354203512,-0.010974872065708042,0.032774623949080706,-0.0025643726849618057,0.02826790215137104,0.017055980418808757,-0.01741762018452088,0.00567426464598005,-0.00847914123830075,-0.004748013706800217,0.01466975729757299,8.243477903306484E-4,0.008076174440793693,-0.033820921690979354,0.016055023134686052,-0.00966853551605406,-0.008805745207549382,-0.009581782290479169,0.01603027192565302,0.02808935192103187,-0.003307929798029363,-0.014888229174539446,0.04356179737175504,-0.006828342089041446,-0.01800105795264244,0.0022301841100367406,0.011527324576551715,-0.014570414647459983,-0.010871765917787948,-0.0035339099820703265,0.01932394818092386,0.02665145738671223,0.010331958493528267,0.008480796947454412,0.002334918562943737,0.00994387490209192,0.007364046577519426,-0.020652574551058935,0.0028379472515856225,-0.017904937096560995,0.031935741131504373,0.0035649338911753147,-0.01660265866375994,0.023833631817251445,-0.004128018832610299,0.011521146749146283,-0.008330862464693686,0.00440669379895553,-3.8172919400191553E-4,0.0085224102367647,0.015294785362978775,-0.02006398142936329,0.013281772064510733,0.010933586450604101,0.003323933585003639,0.002262416540179402,0.019204721987868347,0.01671783095031666,-0.018445138509074848,-0.011660323753797759,-0.002237465352906535,0.015635381188864508,0.013586687560503682,-0.022052044766799856,-0.006497449163968365,0.004360071717140575,-0.03603442528595527,154.0]                                                                              |1.0  |\n",
            "|[0.014087418171887597,-0.007925107423216105,0.01698205317176568,0.016225601523183288,-0.010779881250346079,0.005778969909685353,0.007155285510816611,0.009252804983407258,0.018505377927795053,0.0040103530229923,-0.010172181855887174,-0.02098769626657789,0.0055053763246784605,-0.002614971809089184,0.012209773436188698,0.0020823239921204124,-0.010357396964294215,-0.003249819786287844,0.0023491351739115393,0.003992066128800312,0.007486359844915569,-0.002090359777988245,0.01684673105676969,0.020645680433760086,-0.012256633091601543,0.026469590802056093,-9.089012264060632E-4,0.0075383004266768696,-0.0014582642858537536,0.012116754644860823,0.0037810174990833426,0.02014462772446374,3.865113016217947E-4,0.0053366272555043295,-0.00810839164769277,-6.249873666092753E-4,5.933380646941563E-4,-0.005546434770803898,-0.004243840725393966,-0.017538889253046364,-0.0014678284836312134,-0.006158659125988682,-0.017044194492821893,-0.01518528766852493,0.0033590325620025396,0.007770184563317646,-9.71860357094556E-4,-0.01513745195309942,-0.01001932668344428,-9.718181138547758E-4,-0.007365510725261023,-0.004187922053582345,0.00521910103270784,0.008796925315012534,2.2229505702853203E-4,3.3765181433409454E-5,-0.002127003079901139,-0.0068570652564327855,0.016998374900625397,0.02158260243013501,0.007233515288680791,1.4444623181285958E-4,-0.0012968252626402925,-0.007902218370387952,-0.014986015336277584,-0.012904731657666464,-0.005078586198699971,0.01077841993731757,0.012967464083340019,0.004012834893849989,-0.010748220724053681,-0.005483960701773564,0.0032003988920981403,-0.0038187786888253562,-0.0067600130802020425,-0.0069432619493454695,-0.005707657150924206,9.820211019056539E-4,0.01649274871063729,5.5338129944478474E-5,-0.009612142837916811,0.0059637499197075765,-0.0030401514760645416,0.001721604389604181,-0.0020279929197082915,-0.001692916383035481,-0.0032465003236817817,0.004650090105133131,0.011359297980864843,-0.009285466062525907,0.011891115984568993,0.00840552602118502,0.002697987990298619,0.009467344637960196,0.028803627627591293,0.008886344971445699,-0.013035931550742437,-5.45940986679246E-4,0.004404432737889389,-2.4260319769382475E-4,-0.002891602978343144,0.004180143067302803,0.009027813592304786,-0.0010483654138321679,-7.359367174406846E-4,0.00990641297151645,0.011590290632254134,0.0028746664834519227,0.014685737403730552,-0.004604942244865621,-0.004452560405479744,8.292739279568195E-4,0.00822216037971278,-9.671789167138437E-4,-0.004390624747611582,0.00313825400856634,0.008579558597800012,0.01326413726589332,0.010966697870753706,-2.48034317822506E-4,0.009430116405322526,-0.001837388117564842,-0.004688219326393058,-0.0022346548871913304,-0.002965136830850194,-0.008313577497998874,-0.007773697384012242,0.006678820847688864,-0.01748709626068982,0.0029308918077731506,0.012989988115926583,-0.016953581833513455,0.0027725571068003773,0.02148495848911504,-0.008905435438888769,0.011124120031793912,-0.0077950887382030485,-0.007601281792934363,-0.025396334240213037,0.014065992599353193,7.656587486659797E-4,-0.004884307501682391,0.01030986811965704,0.003492752025219185,-0.005774551467038691,0.009277825701671343,-0.012719944274673859,-0.004466120603804787,4.0826585027389225E-4,-0.008213758359973629,109.0]                                        |0.0  |\n",
            "|[0.006892137575050583,-0.0020842712274316,0.012051574536599219,0.010625565239024581,-0.0043271245776850265,0.01658910867990926,0.0017896887857205002,0.011069679399952292,0.010638949599524494,0.0075249244619044475,-0.003266042418545112,-0.013221599168900866,0.010170519388339017,-0.01037487130088266,0.020809956869925372,0.0049863154481499805,-0.005896358525205869,-0.016758743917307584,5.305676313582808E-5,0.005103304432850564,0.007255587537656538,0.0017645938314672094,0.008430971509369556,0.026449836153915385,-0.009087599861231865,0.017367105865560006,0.005650115643220488,0.005712671369110467,-0.0019230836696806364,0.016149656323250383,-0.0012480314526328584,0.01825669820755138,0.0049843840633911896,-0.0067948451069241855,-0.009285288286264404,-0.005661719376803376,-0.0019027449598070234,-0.0018490295988158323,0.0021670652786269784,-0.02137507023053331,-0.016915420594159514,-0.011327180312946439,-0.02003552974201739,-0.00802247633873776,0.01475498266518116,-0.0016179562517208979,-0.002320385778148193,-0.007173238383984426,0.002515498003049288,0.007712545899266843,-0.017256118364457507,-0.001766471796145197,0.006151820540253539,0.00861638239439344,-0.00979259477026062,-0.008572895942052128,0.007507125701522455,-0.016624433985271025,0.016574744862737134,0.01445713899738621,0.0035879928354916046,-0.005398617257014848,0.007189144991571084,-0.0074916887206200045,-3.960598405683413E-4,-0.00923119974322617,-0.006913285236805677,0.010136068922292907,0.01732493206145591,0.0033756068369257264,-0.014543082859745482,0.0016093277554318774,-0.0012412311698426493,-8.477402561766212E-4,1.3567528912972193E-4,-0.0014394802583410637,-0.015130588224565145,0.001098236349207582,0.017206640430231346,-0.002796920269702241,-0.003327602898934856,8.638794715807308E-4,-0.0018691909608605783,-0.0020492707049015735,0.0036325799774203915,0.007584539242088795,-0.0015207487203952041,0.009347667641577573,0.010148174300411483,-0.013284048829518724,0.00885308776923921,-1.4792175352340564E-4,-0.0018423089213683852,0.009683743075584061,0.013515811253455468,-7.889432818046771E-4,-0.025303514616098255,-9.417530145583441E-4,-0.004652711606468074,-0.00210140403942205,0.001758629998221295,0.003706130353748449,0.016775359894381836,-0.00571915267573786,-0.004012516690636403,0.01299613264927757,0.009438539131224388,-2.1770627790829167E-4,0.011216884788154857,0.0023695066702202894,-0.006720707734984899,0.004023462391387511,0.009506510898063425,0.007404424033666146,0.0024276538533740677,9.5832847409838E-4,0.0025643187036621384,0.018062384289805777,0.007406353441183455,0.0010538929482208914,0.007214999583084136,0.0031210396946335095,-0.0028550317729241215,0.0022193174590938725,0.001383365633955691,-0.009030341821926413,0.0024725988387217512,0.008220417745178565,-0.0016073982351372251,-0.002007530980336014,0.004775240568051231,-0.005630740437482018,0.0034953429185407003,0.01830374784549349,-0.007118625533621525,0.010562708743236726,-0.0025823464566201437,-0.007691917984629981,-0.017549998236063402,0.011190097371581942,0.004617041715391679,-0.011310179601423442,0.006754123123755562,-0.004108783872652566,-9.652898843341973E-4,0.008745095889025833,-0.015773496459587477,-0.002477313762938138,0.006498896211269312,-0.00872291636915179,136.0]                                 |1.0  |\n",
            "|[0.005262679986966153,-6.81237643584609E-4,0.010179442706673095,0.011415135624702089,-0.0012214621373762688,0.02601765744232883,-0.0018126074535151323,0.02040760939902005,0.00781372635004421,0.011292142343396941,-0.004957231669686734,-0.015047886067380507,0.014513948982736717,-0.01954237502068281,0.028047836447755495,0.007002568431198597,-0.006982984292941789,-0.02814768934622407,0.0010779405167947213,0.012602337822318076,0.005756474887796988,0.0042339235078543425,0.005169128176445762,0.03474621945060789,-0.00897888015024364,0.01640386050567031,0.00858404985629022,0.0024783811764791607,0.0011410707714579378,0.019999821321107447,-0.0071251515143861376,0.02388315851179262,0.011055626859888434,-0.015461699035950004,-0.015368702371294299,-0.010151502823767563,-0.006998076418919179,0.0033893077556664745,0.006371024538141985,-0.033992845968653755,-0.035809184052050115,-0.014414674625732005,-0.025852215425887455,-0.0025010792422108354,0.021724108389268318,-0.004425768411601893,-0.0016800270561361686,0.0010588708411281306,0.00511985453000913,0.01926842615939677,-0.03244991923371951,-0.001673543482320383,0.011813699562723438,0.013770229384923975,-0.016286593458304802,-0.010982419030430415,0.019231625196213523,-0.023287694319151342,0.021519684387991827,0.014235894288867712,0.004039059249528994,-0.008909297393014033,0.014528348956567546,-0.01407296738276879,0.010538099349165955,-0.0064282458430777,-0.008914017002098262,0.008562921119543413,0.019297152788688737,0.008924614312127233,-0.02343604650037984,0.010562037009124954,-0.004524433305293011,-8.398285184133176E-5,-8.870455727446825E-4,0.002965520943204562,-0.030186886712908746,-0.001631632260978222,0.01996841098492344,-0.00928080577092866,-0.0024260284301514425,-0.008700353279709815,0.0023036910473213843,-0.00317608960904181,0.0013235967528695861,0.023000004546095926,-5.432813001486162E-4,0.017251856213745972,0.01468496939439016,-0.017607938839743535,0.009884710400365293,-0.004611298069357872,-0.004306479108830293,0.014904478044869999,0.008081088215112687,-0.0029159728745677665,-0.03796760672703385,7.380568577597538E-4,-0.010697463837762674,-0.003549865361613532,9.646686958149075E-5,0.00908863419899717,0.03124160397176941,-0.01056469678102682,-0.012818090509002407,0.025683806060502926,0.004326715657953173,-0.0066245844956332196,0.010624319299434621,0.010789473541080952,-0.013227778083334366,0.006813114826460757,0.00975218580958123,0.012880906711022058,0.014431547332787885,0.004837105632759631,4.867592147396256E-4,0.020723820695032674,0.015366042052240422,0.0042145215285321076,-0.002624837029725313,0.0043701787906078,-0.006142697180621326,0.014779028296470641,0.004031905496958643,-0.013487999504044031,0.009946925379335881,0.010340479404355089,0.008198980001422267,-0.005291974210801224,0.0034609076178943117,-6.498985424210938E-4,0.0050171519066983215,0.02056744871661067,-0.009215103252790869,0.014337525318842382,0.004522891323237369,-0.007916132356816282,-0.015264623519033193,0.014555290900170803,0.008541163996172448,-0.02024351709211866,0.0025767755811102687,-0.0058770988553684825,0.0018754949715609351,0.010813378108044466,-0.022686380957020448,-0.0025406588742043824,0.011150200022772574,-0.0186956014096116,155.0]                                                                |1.0  |\n",
            "|[0.00638463071663864,-0.003966758929891512,0.007901649698396795,0.008251854240370449,-0.004545727220829576,0.004439581956830807,0.003022602330020163,0.005149677046574652,0.008895227743778378,0.003175060750436387,-0.0029265636039781384,-0.009392585434397915,0.002527958669816144,-0.0016363830663976842,0.0076762912121921545,8.52221334753267E-4,-0.003947612945921719,-0.0033640005058259703,8.395131079623752E-4,0.0013630561425088672,0.004387138244055677,-6.105483480496332E-4,0.007859521479986142,0.010669640283595072,-0.005739989098401566,0.01344185798370745,8.132440780173056E-5,0.002909185074713605,-0.0014167452945912373,0.006671061615634244,0.002260124725580681,0.01045693528431002,0.0020619681890821084,0.0019946564425481483,-0.004095381435035961,-5.17200787726324E-4,0.0013731205472140573,-0.0023690089001320302,-7.333981129704625E-4,-0.009848640351265203,-8.710078545846045E-4,-0.002891579642891884,-0.00897977765998803,-0.006303286980255507,0.004313127588829957,0.003120772853435483,-9.435008068976458E-4,-0.006756631366442889,-0.0032699363573556184,9.625716847949661E-4,-0.0038809483376098797,-0.001135321770561859,0.0022557191841769964,0.0035830969718517736,-7.208155584521592E-4,-8.827084639051463E-4,4.300666605558945E-4,-0.0037693070821660513,0.0074161825541523285,0.009290728528867476,0.0034917258089990355,-1.6634790517855436E-4,-2.6050431188195944E-5,-0.004201568179269088,-0.007591380883241072,-0.004911352567432914,-0.0035134856934746495,0.005945892589807045,0.00663307314607664,0.0020920467213727534,-0.006357200971706334,-0.0028449021629057825,6.269761142903008E-4,-9.089362624763453E-4,-0.0018890404317062348,-0.0029495914041035576,-0.0035327236400917172,8.831048762658611E-5,0.008420826126894099,-4.5194449921837077E-4,-0.002757303198450245,0.003763764296309091,-0.0019178612838004483,7.013204017312091E-4,-7.466684019163949E-4,1.2389272887958214E-4,-0.0015934507755446248,0.001686719044300844,0.005970177528297427,-0.005284761567963869,0.005552246235311031,0.0032383949437644333,6.498771645055967E-4,0.004189254861557856,0.013024702864640858,0.003836140993371373,-0.007018511667411076,-1.186350746138487E-4,7.482055079890415E-4,-4.8965218411467504E-5,4.5644325382454554E-4,0.0013270065664983122,0.003910255536993645,8.886589239409659E-5,-6.993843262534938E-4,0.0040042025211732835,0.006480725915025687,0.0027640594125841744,0.006128593959147111,-0.0033072851183533203,-0.0028385856330714887,-3.9835096504248213E-4,0.004058369850099552,8.769499854679452E-4,-0.002586155144854274,1.7224015573447105E-4,0.003909113049303414,0.007293107817531563,0.003035004485354875,6.997244854574092E-4,0.005930768464168068,6.469494765042327E-4,-0.0022930659106350504,-0.0018493819334253203,-0.0014843046810710803,-0.005434835562482476,-0.00363882906458457,0.0032779305165604455,-0.006667967711109668,0.0026376059195172274,0.0059215539949946105,-0.006513926062325481,0.0019595095382101135,0.010461576111993054,-0.0043789523260784335,0.00508711286875041,-0.005751600059738848,-0.004232479726852034,-0.01169702468905598,0.007950854633236304,7.94463288912084E-4,-0.0037401449408207554,0.003950426027586218,7.708941121791213E-4,-0.0030555272696801694,0.004950134893078939,-0.006402829159924295,-0.001943322387205626,4.2277187640138436E-4,-0.003719890533830039,196.0]           |0.0  |\n",
            "|[0.006309173419140279,-0.002105745836161077,0.011915058828890324,0.005556115182116628,-0.0036208934616297483,0.0082515690010041,3.9760395884513855E-4,0.004726937040686607,0.011258415877819061,0.002326877787709236,-0.003848013118840754,-0.009616187307983637,0.00546922511421144,-0.004447140963748097,0.01326366513967514,9.393002837896347E-4,-0.007255357690155506,-0.00829983875155449,0.0016220813849940896,-3.2251523953163996E-4,0.005473958794027567,-3.7161074578762054E-4,0.011144582647830248,0.016815744806081057,-0.0053798239678144455,0.014216319192200899,7.511665462516248E-4,0.0029840804636478424,0.0019920693594031036,0.00901932967826724,0.001664800220169127,0.011852813651785254,0.002901147527154535,-0.0012956348873558454,-0.005922297714278102,-0.0039044820587150753,0.0023765821242704988,-0.0043570761336013675,9.593521826900542E-5,-0.012598928529769182,-0.004734607879072428,-0.005875449860468507,-0.011121793184429407,-0.0075205296743661165,0.00889741349965334,0.0019016254809685051,-0.0025157149648293853,-0.00709250511135906,-0.0012221887955092825,0.001151282136561349,-0.007250644965097308,-0.00380308018065989,0.005634726956486702,0.0032272671087412164,-0.0032242090674117208,-0.003484823042526841,0.0013744342140853405,-0.006155896699056029,0.010067804716527462,0.009202275658026338,0.0023153529036790133,-0.002495415596058592,0.002803870098432526,-0.0037221076781861484,-0.006601326051168144,-0.006364648230373859,-0.0030094068497419357,0.007405355805531144,0.0074697190430015326,9.646799881011248E-4,-0.008697711396962404,-0.0012094946869183332,-8.85448680492118E-5,-0.0013850480027031153,-0.0016173690237337723,-6.987519591348246E-4,-0.00562460720539093,0.0022148312418721616,0.010546085424721241,-9.69574844930321E-4,-0.0034719306277111173,0.0035509911831468344,-0.0032236024271696806,4.551835299935192E-4,-0.0015258475905284286,0.0030216416344046593,5.195902194827795E-4,0.002878455852624029,0.006107177468948066,-0.006748983636498451,0.010041082743555307,0.004295375547371805,-3.129615797661245E-4,0.005878705298528075,0.01379346288740635,9.752802434377372E-4,-0.009488257579505444,0.0025853486731648445,-8.924019348341972E-4,-6.648278795182705E-4,-0.001161731983302161,-3.1948581454344094E-4,0.007096173008903861,-0.003367217257618904,-0.0018735434859991074,0.005319513846188784,0.0073194478172808886,2.526179305277765E-4,0.006794026819989085,-7.260970305651426E-4,-0.003454233257798478,0.002365196152823046,0.003980541601777077,0.003785300883464515,-8.553571533411741E-4,1.952912425622344E-4,0.0016802501631900668,0.011784214992076159,0.005102027440443635,1.7626339104026556E-4,0.005790238035842776,0.0010843458730960265,2.4651503190398216E-4,-7.124010589905083E-4,5.954819498583674E-4,-0.005240929080173373,-0.0032314422714989632,0.0051509111654013395,-0.007410147343762219,-3.8633617805317044E-5,0.005844376981258392,-0.006498111179098487,0.002673529408639297,0.009772773832082748,-0.005928804399445653,0.0062386165373027325,-0.0023480370873585343,-0.005377295310609043,-0.012789685744792223,0.007716819876804948,7.524531974922866E-4,-0.007327468367293477,0.003847529529593885,-4.8258760944008827E-4,9.887147461995482E-5,0.006062306230887771,-0.006268608383834362,-9.534481214359403E-4,0.0018410226330161095,-0.003974534207372926,35.0]                |0.0  |\n",
            "|[0.007642372477372797,-0.002695228283603986,0.007240172572589168,0.010691255757895608,-0.0027766783411304155,0.00948887407624473,0.0024332968872234533,0.007725385502756883,0.007878276732905457,0.006405061096302234,-0.0029499742668122053,-0.00914905546233058,0.0049377551282911245,-0.005252054096975674,0.01240470097400248,0.0018555325417158504,-0.0034102136366224536,-0.00688229278603103,0.0012537681468529627,0.003884623574170594,0.004796303420638044,0.0016074467663808414,0.007186846540813955,0.01607018438517116,-0.007840328811046977,0.01433236466255039,0.0012661479401382771,0.00190863647852287,-0.003162333043292165,0.010116879479028285,1.5770890361939866E-5,0.013278747675940394,0.0018366180859932986,-0.0022983183541024723,-0.006223273114301264,-9.730901753452296E-4,-0.0011799093820930768,-5.62946554661418E-4,7.518826557012895E-4,-0.014325302676297724,-0.007106770756460415,-0.004554591005823264,-0.011940912789820382,-0.004981535962239528,0.0074517391203698935,0.0017555093897196152,-3.438274907239247E-4,-0.006504816701635718,-1.98783673113212E-4,0.003102274761962083,-0.008100557684277494,-5.825027183163911E-4,0.006341926399424361,0.0040033687206838895,-0.004817493851684654,-0.004970903692689413,0.003703655690818171,-0.009204377129208297,0.009478006240290899,0.009055373026058078,0.0027214703538144627,-0.0022623837406475404,0.0025017890050852047,-0.004059943079482764,-0.004707053391030058,-0.005249222604713092,-0.00413238761636118,0.0072498306253692135,0.009335581824416295,0.002425308657014587,-0.008450822943511108,-5.329479657423992E-4,-0.0014776983195285234,-5.6562239478807896E-5,-0.0024167237813041234,-0.0027134926058351994,-0.0074361210912077995,0.0013547311355068814,0.010375881645207603,-0.0030403356649912894,-0.0025027653124804297,7.158036169130355E-4,-0.0029389964135286086,0.0012489363756079304,0.0017214096054279555,0.0019961915095336735,-0.0018831599154509604,0.0038215479823217415,0.008871639763431933,-0.007658029701512229,0.00534068730000096,0.002852193946940436,6.402404687833041E-4,0.005718978374109914,0.010383423010352999,0.0013443489151541144,-0.01438060690027972,-8.682539470707221E-4,-0.0022477611261516963,7.332256548882772E-6,0.0018967246893832148,0.0031395873653915865,0.00802947643387597,-0.0018069863799610175,-0.0011262650902305418,0.008711050012304137,0.007963412693546463,0.0019859097180111953,0.007631070407417913,-3.286831585379938E-4,-0.00475864712401138,0.0011398394408388413,0.006252052165412654,0.0050495214575979235,4.303395301879694E-4,-8.025030329008587E-4,0.00437108869664371,0.011590028501814231,0.005119308286036054,0.0010578689737788711,0.006769864121451974,0.001541331919725053,-0.0022366463211559067,-1.525737849685053E-4,-1.8331988637025155E-5,-0.007488037381942073,-0.0012935477122179386,0.006012864735870001,-0.0034143739806798594,-0.0011005402132771753,0.006146723365721603,-0.00659807581299295,0.0031438928951198855,0.01075452339136973,-0.006177692402464648,0.007122177722825048,-0.003177354024956003,-0.0051221433774723355,-0.011542033219787601,0.006384366453858092,0.0025431311593517116,-0.007221657186164521,0.003337997152508857,-0.001510441021916146,-0.0020126258896198124,0.006868470169138163,-0.00908333277523828,-0.002486325237744798,0.0029441155444753044,-0.004676363489124924,149.0]             |1.0  |\n",
            "|[0.007714126569529374,-0.0039568133652210236,0.013536226314802963,0.0039008271414786577,-0.012507983793814976,0.00950280949473381,-1.7523715117325384E-4,0.0013373848050832748,0.008363513586421806,6.597374352471281E-4,-0.009650957770645618,-0.011867618498702843,0.005665777522760132,-0.003396217090388139,0.009338156863426168,0.0011366559192538261,-0.006740394358833631,-0.005023108019183079,-0.0017316429778778304,-7.273505131403605E-4,0.007044587905208269,-0.0034659775750090676,0.010792070378859837,0.02043244056403637,-0.004311644472181797,0.010789652975896994,0.0017831590569888551,0.008290814856688181,-2.5952882909526426E-4,0.01157467789016664,0.003751659261373182,0.012835589547952015,8.512761754294236E-4,0.005865328770596534,-0.002309296280145645,-0.006539908431780835,0.004789658395263055,-0.009599119424819946,-0.0042687717359513044,-0.013213901334286977,8.179495731989542E-4,-0.010000356783469517,-0.013286031161745388,-0.011773305634657541,0.005521667888388038,-7.092403247952461E-4,-0.0037368605844676495,-0.01181722277154525,-0.004943179897964001,0.001375241825977961,-0.008135508668298522,-0.006448333462079366,0.002613947067099313,0.0015228120610117912,-0.003365467923382918,-0.006586974797149499,-0.001562036108225584,-0.007782707941563179,0.013538244801263014,0.015197298179070154,0.0027104366599814966,-0.0011623534373939037,-0.002830979103843371,-0.005746062068889538,-0.010626383125782013,-0.016960936288038887,-0.003632824479912718,0.007323987626781066,0.009281925857067108,-0.0026317160421361523,-0.005971575311074654,-9.378030275305111E-4,0.00431982676188151,-8.284624782390893E-4,0.004571442181865374,-0.003997330864270528,-8.528865873813629E-4,0.003160191428226729,0.013691805147876341,0.0030369681771844625,-0.0021118534884105125,0.004121607014288505,-3.308159066364169E-4,-0.002325217064935714,0.0037910225607144334,-1.670578494668007E-4,-7.255925253654519E-4,-8.855791141589482E-5,0.0018067259419088562,-0.007715841677660743,0.009554972096035877,0.006168390779445568,0.0012383826542645693,0.0013489342915515103,0.01913657784461975,3.763268032344058E-4,-0.014418177617092926,-3.88561204696695E-4,9.422958052406708E-4,-7.087790096799532E-4,-0.001434979417050878,-4.69183549284935E-4,0.012212578983356554,-0.00403354976636668,7.245917804539204E-4,0.0036421682064731913,0.008964135001103083,0.0014445708754161992,0.008872680055598417,-0.005351000775893529,-5.757075656826297E-4,0.007144731779893239,0.006568113962809244,0.001435992152740558,-0.007085833831903679,0.0010702647268772125,8.518834753582875E-4,0.015425209576884905,0.005117114128855367,-0.0037239858259757357,0.011650787045558293,-6.079028486662234E-4,-5.630155404408772E-5,-0.002671874438722928,-0.0024228934974720078,-0.0013871371435622373,-0.006025333811218539,0.004600914350400368,-0.012797366827726364,0.0031168565231685834,0.0037386379359910884,-0.009407596662640572,6.731260218657553E-4,0.014927640246848265,-0.004200930416118354,0.006836008047685027,-0.005513685910652081,-0.0065857639225820695,-0.0202226930608352,0.008542123405883709,0.0020688921213150024,-0.0019502354164918263,0.010992441326379776,-0.004043977397183577,-0.008078471757471561,0.004841621266677976,-0.007085226248212469,0.0016583456696632006,0.004356049466878176,0.0010528347144524255,26.0]                     |0.0  |\n",
            "|[0.014060130194676194,-0.006623431464752436,0.017503863433375955,0.009936542070301419,-0.015302512821191076,0.01744626551887698,0.002046944097277116,0.0237804879646071,0.016942990097132595,0.0024780549892139707,-0.01684039461278272,-0.0251571489286355,0.016009104684847196,-0.010082600775852123,0.016622426229084587,0.014354034244950692,-0.01320776162769603,-0.019900919668461112,-0.0014446437337689779,0.00572904938863675,-0.0010731208921325478,-0.003113830239850689,0.007179025010290471,0.030378344918558883,-0.00980554735393856,0.0239806381075389,0.0030717953261707657,0.003469051735009998,-0.0034071097404442053,0.028248189318798144,-0.003514521395448934,0.02144922607112676,0.013987004418264736,0.0015588807661763647,-0.008897402352886274,-0.012423418078635057,-0.006383283979217099,-4.987952415831387E-4,0.0012873832125809383,-0.03432905385588211,-0.03066915026019243,-0.0032776792332614687,-0.02428412065968256,-0.02167589754654645,0.002414079086685723,0.0015433330184102736,0.002645627412923866,-0.0029369557424533095,-0.013003653891659766,0.00931712428626435,-0.020983888577161866,-0.008412818815982477,0.00987015632827851,0.01688080283135853,-0.01273641781352291,-0.009224751895420592,0.006984768779313361,-0.01505136716348881,0.02490779216763754,0.013767887965183367,0.018028627340258525,0.0022018350586718457,0.007257366928652945,-0.01843084953725338,-0.007657382659751668,-0.01241920153949071,-0.0068383175583386965,0.015124124432490631,0.01123581430874765,0.008402082370594144,-0.020851914199407805,0.008925308463486463,0.006054615134913051,-0.0039629671690900896,8.757338906765323E-4,1.5107404959218746E-4,-0.022295721213925968,-0.00259453999619423,0.023358576522944284,-0.012138564621140673,-0.009791317644571378,-0.0027123527463779533,3.5096152846976605E-4,-0.00441582470507869,-0.005250022603749213,0.014004802908113395,-0.006110374667597088,0.018277276696277444,0.005547411036042666,-0.017504956541498275,0.01994942031292753,0.006264845073350113,-0.0032369843366640534,0.008300237008370459,0.032071721068033104,0.010337757142472336,-0.027911530479534784,0.01619995788099583,8.530999660830606E-4,-0.006622494867770001,-0.01612071656696075,0.008989114261401648,0.025103213667700238,-0.004492742729119279,-0.005476636203556237,0.025618803848787636,0.0019925911487503486,-0.013238223233202007,0.007902360150844535,-0.005311169143004174,-0.001218237789130812,-4.406777125867931E-5,0.005212481588717889,0.010551714464037848,0.004464939694364809,0.016487943109082567,0.011240510666869919,0.007524083622477272,0.0084893310373776,-0.005011507426388562,-0.0010294472925703635,0.0010819317010993307,-0.006561713838230141,0.011264547938480973,-0.005895016302185302,-0.008968080425719647,0.005242412306622348,3.121381900696592E-4,-0.016495194895965556,0.006449653454844586,0.008590152667073364,-0.01728035888465291,0.006438476980706169,0.023213387033055453,-0.015161203749647195,0.013352089617083866,-8.610143003434958E-4,-0.006991821563463997,-0.022079135989770293,0.02349076384085823,0.009276260979029097,-0.0063072316062806,0.006731807645833628,-0.004460554868935354,-0.0020159491687081754,0.0105833820363676,-0.0126359825742177,-0.003383633638308807,0.006810149426614358,-0.018336161664179104,81.0]                                                                    |0.0  |\n",
            "|[0.01243718418603142,-0.006228403624845669,0.01564590705351697,0.003489011767265361,-0.018030766397714615,0.0177342577630447,1.1747846535096565E-4,0.030719573919971783,0.015225784672010275,0.0011667225173571042,-0.02561581248624457,-0.029220298139585387,0.019806832230339445,-0.01325465893993775,0.014686619190292224,0.019387936943935022,-0.014854525319404071,-0.02360209227643079,-0.003112804849580344,0.008700659239871634,-0.009456886806421809,-0.001645162028984891,0.0013963710775391923,0.029784390056091875,-0.007895822998964123,0.01807121316798859,0.0042284717977357405,0.0010543184665342171,-1.0680915632595618E-4,0.03146560241778691,-0.00959725761883116,0.02164846441398064,0.02300911945187383,0.0016208204938771408,-0.01119225953395168,-0.01775576880512138,-0.01244680437311116,0.00478897488857102,0.003900138952303678,-0.0429333397704694,-0.043651263539989785,-0.003765702454580201,-0.023790871776226494,-0.021124957957201533,-7.82953342422843E-4,0.004492551786825061,0.0029537587348992624,0.0051443662701381575,-0.016669752076268196,0.019006850715312693,-0.02796150164471732,-0.011824801835852364,0.011291450510422388,0.021663044527586963,-0.014151720355989203,-0.007189193378306097,0.008095874295880396,-0.01574746969466408,0.0277060955348942,0.008530078300585348,0.023237828061812453,0.0029372085959443613,0.013708770892763924,-0.023280556003252663,-3.807292475054661E-4,-0.00936054468103167,-0.006023409841064777,0.012917613972806267,0.0025518526737060812,0.0124664984889225,-0.024348460965686373,0.01832426722264952,0.007102465877930323,-0.005524986035500963,-5.098485465471942E-4,0.003721565017864729,-0.03198267374601629,-0.005931002669967711,0.02435232885181904,-0.020191471920245223,-0.010147829074412584,-0.010710114412682338,0.005118643297464587,-0.005363457202393975,-0.012875592581824295,0.02746600073037876,-0.008443898676584164,0.028336507682171132,0.0027661463698475724,-0.01831957475385732,0.022136309158263933,0.003159669926390052,-0.005669993050913843,0.00950469455953377,0.03169021620932552,0.013389567766959468,-0.030864825265275106,0.02263652714383271,0.0016436555241752001,-0.010004363913645243,-0.025570257308168542,0.010931396843968993,0.032559784750143685,-0.0065991804133065865,-0.011958328340875192,0.03504562843590975,-0.007743856061198231,-0.022474484466430213,0.0043888282299222835,-0.0020488551979522323,6.336409520978729E-4,7.377907944222291E-4,1.553331417704208E-4,0.015901752023233306,0.008830894509123432,0.025097204010105793,0.013727835069100061,2.822508750897315E-4,0.011634323073344098,-0.0058365529532440836,-0.01485927335710989,-4.419482041460772E-4,-0.01075717294588685,0.024520859490924824,-0.007669118802166647,-0.010099356450761357,0.011901139572728425,-0.006424712379359536,-0.012601944824887646,0.004766132249238176,0.006039201708820959,-0.016617618087265227,0.005829057177632219,0.022528558025240068,-0.01472925901826885,0.013227285739655295,0.0061849321031736,-0.0046727498475876116,-0.019135282960228827,0.026937330245143835,0.011709314719256427,-0.004125104363386829,0.0034815435970409047,-0.004920216413059582,0.0028936285137509303,0.010334142613121204,-0.013114725498275623,-0.0055549475364387035,0.006426250827240033,-0.02642485075112846,58.0]                                                                      |0.0  |\n",
            "|[0.010821331763509079,-0.003598592858907068,0.013515119237126783,0.01634784752241103,-0.0036039650440216064,0.015618251709383912,0.005201010528253391,0.016762177023338154,0.015419749903230695,0.011158197651639057,-0.004847895383136347,-0.017347584580420516,0.009769511947524734,-0.010295556887285784,0.021886229238589294,0.005836569391249213,-0.010058492742246017,-0.016023463795136195,0.0024291883055411745,0.008690318682056386,0.006370390234224033,0.002563981210187194,0.012516116492861329,0.02809066532063298,-0.012321315814915579,0.02503164066001773,0.0035660929988807766,0.004795503096829634,-0.003431481476582121,0.019040801489609294,-0.001945928606801317,0.023799711307219695,0.005381677809054963,-0.005869129484381119,-0.0116542410250986,-0.0030635604343842715,-0.0056082744704326615,8.596834595664404E-5,0.0020499387246672995,-0.02719731284014415,-0.020466380796278827,-0.007554683805210516,-0.021942233623121865,-0.009944576169800712,0.01349626065348275,0.0029004300013184547,-8.855657642925507E-4,-0.008350122338015353,-0.0017417765775462613,0.007462030876922654,-0.018695555238082306,-5.736404818890151E-4,0.010060439351946115,0.01301362214871915,-0.009005521958897589,-0.007104110391082941,0.008601459539931966,-0.016340977632353315,0.018466953391907737,0.017463312455220148,0.005968484700133558,-0.005256891357930726,0.0069587363286700565,-0.009533482218103018,-0.0033424543671571882,-0.007794020842993632,-0.007302397665625904,0.012454492432880215,0.017249476433789823,0.007292078880709596,-0.018699687119806185,0.0021507314970676816,-0.0011743277063942514,-0.0012320129520730916,-0.0034196556080132723,-0.002581465607363498,-0.019699166448845062,-0.0016985180482151918,0.018055856358841993,-0.005598869058303535,-0.00675683862027654,5.775839526904747E-4,-0.004306670860387385,3.10125096802949E-5,-7.393477389996406E-4,0.007945527526317164,-0.004084448948560748,0.010264026670483872,0.014755552423594054,-0.013399223778833402,0.010254092063405551,0.0010235757217742503,4.961886916134972E-4,0.013435281209240202,0.019390717090573162,0.004222586161631625,-0.025884499860694632,0.0013540644795284607,-0.00385246126097627,-6.997577693255153E-4,-1.9119884200335946E-4,0.006180762743497326,0.01624655767227523,-0.003777356250793673,-0.003046560665097786,0.019860335130942985,0.012120578670874238,-6.311306788120419E-5,0.013070940891338978,9.95988650174695E-4,-0.009337637384305708,2.0762792564710253E-4,0.009855914035142632,0.006654209675616585,0.004702487655777077,0.0028115445811636164,0.006570900362930843,0.017628926812903956,0.011162332259118557,0.003438117324549239,0.005533344628929626,0.0032572778400208335,-0.005673683641362004,0.004326640009821858,1.8271247608936392E-4,-0.01275886827352224,7.592502697661985E-4,0.00817458381789038,-0.005128183693159372,-0.002389494391536573,0.009283861087169498,-0.008918338855437469,0.003939156395063037,0.021932065952569246,-0.011348332263878547,0.012611330166691914,-0.00578977212717291,-0.008345309950527735,-0.019639302088762634,0.014642599169746973,0.0035750707602346665,-0.013141760704456829,0.006804996315622702,-0.001635613774851663,-2.3238906578626484E-4,0.011803702887846157,-0.018180060602389858,-0.004627060698112473,0.005880666642042343,-0.014251589760533534,155.0]                                           |1.0  |\n",
            "+------------------------------------------------------------------------------------------------------------------------------------------------------------------------------------------------------------------------------------------------------------------------------------------------------------------------------------------------------------------------------------------------------------------------------------------------------------------------------------------------------------------------------------------------------------------------------------------------------------------------------------------------------------------------------------------------------------------------------------------------------------------------------------------------------------------------------------------------------------------------------------------------------------------------------------------------------------------------------------------------------------------------------------------------------------------------------------------------------------------------------------------------------------------------------------------------------------------------------------------------------------------------------------------------------------------------------------------------------------------------------------------------------------------------------------------------------------------------------------------------------------------------------------------------------------------------------------------------------------------------------------------------------------------------------------------------------------------------------------------------------------------------------------------------------------------------------------------------------------------------------------------------------------------------------------------------------------------------------------------------------------------------------------------------------------------------------------------------------------------------------------------------------------------------------------------------------------------------------------------------------------------------------------------------------------------------------------------------------------------------------------------------------------------------------------------------------------------------------------------------------------------------------------------------------------------------------------------------------------------------------------------------------------------------------------------------------------------------------------------------------------------------------------------------------------------------------------------------------------------------------------------------------------------------------------------------------------------------------------------------------------------------------------------------------------------------------------------------------------------------------------------------------------------------------------------------------------------------------------------------------------------------------------------------------------------------------------------------------------------------------------------------------------+-----+\n",
            "only showing top 20 rows\n",
            "\n"
          ]
        }
      ]
    },
    {
      "cell_type": "markdown",
      "source": [
        "**1. Text Length Computation:**\n",
        "\n",
        "I define a function compute_length that computes the length of the given text. This function is then converted into a User-Defined Function (UDF) named length_udf.\n",
        "\n",
        "**2. Adding Text Length as a New Column:**\n",
        "\n",
        "I add a new column to df_cleaned named length, which contains the length of the text present in the v2 column.\n",
        "\n",
        "**3. Word Embeddings with Word2Vec:**\n",
        "\n",
        "I instantiate a Word2Vec model with specified hyperparameters. The goal is to transform the tokenized text into dense vector representations that capture semantic information.\n",
        "\n",
        "**4. Label Indexing:**\n",
        "\n",
        "Using StringIndexer, I convert the categorical labels in the v1 column into numerical indices. This step is essential for most machine learning algorithms that expect numerical labels.\n",
        "\n",
        "**5. Building the Data Processing Pipeline:**\n",
        "\n",
        "I create a pipeline that chains various transformations in a specific order. The stages include tokenization, stopword removal, Word2Vec transformation, and label indexing.\n",
        "\n",
        "**6. Transforming the Data:**\n",
        "\n",
        "After fitting the pipeline to df_cleaned, I transform the dataframe. The result, df_preprocessed, contains tokenized, cleaned, and vectorized text along with indexed labels.\n",
        "\n",
        "**7. Combining Features into a Single Column:**\n",
        "\n",
        "I use VectorAssembler to combine the word embeddings and the text length into a single feature vector named final_features.\n",
        "\n",
        "**8. Splitting the Data:**\n",
        "\n",
        "I split the preprocessed dataframe into training and testing sets using an 80-20 split ratio, ensuring a random distribution by setting a seed value of 42.\n",
        "\n",
        "**9. Displaying the Processed Data:**\n",
        "\n",
        "Finally, I display the final_features and label columns of the df_preprocessed dataframe.\n"
      ],
      "metadata": {
        "id": "trN0NexE6-E7"
      }
    },
    {
      "cell_type": "markdown",
      "metadata": {
        "id": "nV7baCwkIDc7"
      },
      "source": [
        "# Section 4: Show your analysis of the data\n",
        "\n",
        "10 points\n",
        "\n",
        "This is where the science happens. Use your data to show some kind of insight, and how you got there. Make the reader understand why it's important, and how they can get the same conslusion, and/or what would need to change to reach a different one.\n",
        "\n",
        "### This section should include one or more of the following:\n",
        "- Fit the data to a model\n",
        "- Show the outcome of clustering, regression, and/or classification algorithms.\n",
        " - We used several in class, but you can use whatever fits your needs for this assignment\n",
        "- Reccomend a product/item\n",
        "- Use a SQL query to filter results\n"
      ]
    },
    {
      "cell_type": "code",
      "execution_count": 14,
      "metadata": {
        "id": "MPWkF1xNKVS6"
      },
      "outputs": [],
      "source": [
        "from pyspark.ml.classification import LogisticRegression\n",
        "lr = LogisticRegression(featuresCol=\"features\", labelCol=\"label\")\n",
        "\n",
        "lr_model = lr.fit(train_df)\n",
        "predictions = lr_model.transform(test_df)\n"
      ]
    },
    {
      "cell_type": "code",
      "source": [
        "from pyspark.ml.evaluation import BinaryClassificationEvaluator\n",
        "from pyspark.ml.evaluation import MulticlassClassificationEvaluator\n",
        "\n",
        "evaluator_auc = BinaryClassificationEvaluator(labelCol=\"label\", rawPredictionCol=\"rawPrediction\", metricName=\"areaUnderROC\")\n",
        "evaluator_accuracy = MulticlassClassificationEvaluator(labelCol=\"label\", predictionCol=\"prediction\", metricName=\"accuracy\")\n",
        "evaluator_precision = MulticlassClassificationEvaluator(labelCol=\"label\", predictionCol=\"prediction\", metricName=\"weightedPrecision\")\n",
        "evaluator_recall = MulticlassClassificationEvaluator(labelCol=\"label\", predictionCol=\"prediction\", metricName=\"weightedRecall\")\n",
        "evaluator_f1 = MulticlassClassificationEvaluator(labelCol=\"label\", predictionCol=\"prediction\", metricName=\"f1\")\n",
        "\n",
        "auc = evaluator_auc.evaluate(predictions)\n",
        "accuracy = evaluator_accuracy.evaluate(predictions)\n",
        "precision = evaluator_precision.evaluate(predictions)\n",
        "recall = evaluator_recall.evaluate(predictions)\n",
        "f1 = evaluator_f1.evaluate(predictions)\n",
        "\n",
        "print(\"AUC:\", auc)\n",
        "print(\"Accuracy:\", accuracy)\n",
        "print(\"Precision:\", precision)\n",
        "print(\"Recall:\", recall)\n",
        "print(\"F1-Score:\", f1)\n"
      ],
      "metadata": {
        "colab": {
          "base_uri": "https://localhost:8080/"
        },
        "id": "zwQJSoewc44g",
        "outputId": "1741e689-f400-4842-eb13-b4c341570fd5"
      },
      "execution_count": 15,
      "outputs": [
        {
          "output_type": "stream",
          "name": "stdout",
          "text": [
            "AUC: 0.9538666510497551\n",
            "Accuracy: 0.9477124183006536\n",
            "Precision: 0.9458388781458147\n",
            "Recall: 0.9477124183006536\n",
            "F1-Score: 0.9460981528234265\n"
          ]
        }
      ]
    },
    {
      "cell_type": "code",
      "source": [
        "from pyspark.sql import SparkSession\n",
        "\n",
        "predictions.createOrReplaceTempView(\"predictions_view\")\n",
        "\n",
        "spam_messages = spark.sql(\"SELECT * FROM predictions_view WHERE prediction = 1\")\n",
        "\n",
        "spam_messages.show()\n",
        "\n",
        "def recommend_message_type(prediction):\n",
        "    return \"Recommended for Review\" if prediction == 1 else \"Safe to Read\"\n",
        "\n",
        "from pyspark.sql.types import StringType\n",
        "\n",
        "recommend_udf = udf(recommend_message_type, StringType())\n",
        "recommendations = predictions.withColumn(\"Recommendation\", recommend_udf(predictions[\"prediction\"]))\n",
        "\n",
        "recommendations.select(\"v2\", \"Recommendation\").show()\n"
      ],
      "metadata": {
        "colab": {
          "base_uri": "https://localhost:8080/"
        },
        "id": "XPHiOZL6dApU",
        "outputId": "a1d9e10c-e3ff-4cca-98da-7bd06bbd0848"
      },
      "execution_count": 16,
      "outputs": [
        {
          "output_type": "stream",
          "name": "stdout",
          "text": [
            "+----+--------------------+------+--------------------+--------------------+--------------------+--------------------+-----+--------------------+--------------------+--------------------+----------+\n",
            "|  v1|                  v2|length|          clean_text|              tokens|     filtered_tokens|            features|label|      final_features|       rawPrediction|         probability|prediction|\n",
            "+----+--------------------+------+--------------------+--------------------+--------------------+--------------------+-----+--------------------+--------------------+--------------------+----------+\n",
            "| ham|3 pa but not sele...|    22| pa but not selected|[pa, but, not, se...|      [pa, selected]|[-0.0015220423229...|  0.0|[-0.0015220423229...|[2.43861196733237...|[0.17295440974874...|       1.0|\n",
            "| ham|Call me. I m unab...|    55|call me i m unabl...|[call, me, i, m, ...|[m, unable, cal, ...|[0.00292864757856...|  0.0|[0.00292864757856...|[2.42199095342086...|[0.18630918820978...|       1.0|\n",
            "| ham|Every monday..nxt...|    41|every mondaynxt w...|[every, mondaynxt...|[every, mondaynxt...|[0.01120005752891...|  0.0|[0.01120005752891...|[3.21131096483449...|[0.21696047809859...|       1.0|\n",
            "| ham|Glad to see your ...|    23|glad to see your ...|[glad, to, see, y...|  [glad, see, reply]|[0.01162274298258...|  0.0|[0.01162274298258...|[2.84124083901996...|[0.07274750284178...|       1.0|\n",
            "| ham|Have you heard fr...|    30|have you heard fr...|[have, you, heard...|       [heard, week]|[0.01891242666170...|  0.0|[0.01891242666170...|[3.34960662863314...|[0.34656247373869...|       1.0|\n",
            "| ham|Hey now am free y...|    32|hey now am free y...|[hey, now, am, fr...|         [hey, free]|[0.01287253084592...|  0.0|[0.01287253084592...|[2.28044847398783...|[0.00905260072010...|       1.0|\n",
            "| ham|Hey what are you ...|    39|hey what are you ...|[hey, what, are, ...| [hey, y, reply, pa]|[0.01125429937383...|  0.0|[0.01125429937383...|[2.82712855717082...|[0.05338315969019...|       1.0|\n",
            "| ham|How is your sched...|    62|how is your sched...|[how, is, your, s...|[schedule, next, ...|[0.01384651549160...|  0.0|[0.01384651549160...|[2.02909351216523...|[0.48697033433094...|       1.0|\n",
            "| ham|I sent lanre fake...|    54|i sent lanre fake...|[i, sent, lanre, ...|[sent, lanre, fak...|[0.00332544504531...|  0.0|[0.00332544504531...|[2.43390944531276...|[0.43501213657009...|       1.0|\n",
            "| ham|I will treasure e...|    49|i will treasure e...|[i, will, treasur...|[treasure, every,...|[0.01374888396821...|  0.0|[0.01374888396821...|[3.28817242128646...|[0.46642901183699...|       1.0|\n",
            "| ham|India have to tak...|    25|india have to tak...|[india, have, to,...| [india, take, lead]|[0.00813956970038...|  0.0|[0.00813956970038...|[2.25675169578259...|[0.40227991587250...|       1.0|\n",
            "| ham|K..i deleted my c...|    33|ki deleted my con...|[ki, deleted, my,...|[ki, deleted, con...|[-2.6251987098172...|  0.0|[-2.6251987098172...|[2.32545833325567...|[0.08603784587117...|       1.0|\n",
            "| ham|Motivate Behind e...|   153|motivate behind e...|[motivate, behind...|[motivate, behind...|[0.01187251111696...|  0.0|[0.01187251111696...|[2.62834150555232...|[0.46083403999813...|       1.0|\n",
            "| ham|No but the bluray...|    28|no but the bluray...|[no, but, the, bl...|    [bluray, player]|[-0.0027007986791...|  0.0|[-0.0027007986791...|[1.70699407615466...|[0.16257025044945...|       1.0|\n",
            "| ham|No no. I will che...|    46|no no i will chec...|[no, no, i, will,...|[check, rooms, be...|[0.00235325569519...|  0.0|[0.00235325569519...|[2.08921094093349...|[0.26104449770659...|       1.0|\n",
            "| ham|So can collect ur...|    25|so can collect ur...|[so, can, collect...|   [collect, laptop]|[0.00294363003922...|  0.0|[0.00294363003922...|[2.87113003254647...|[0.27304938252430...|       1.0|\n",
            "| ham|We have sent JD f...|    97|we have sent jd f...|[we, have, sent, ...|[sent, jd, custom...|[0.00905784553227...|  0.0|[0.00905784553227...|[1.52675251853780...|[0.16053847092205...|       1.0|\n",
            "| ham|Yavnt tried yet a...|    48|yavnt tried yet a...|[yavnt, tried, ye...|[yavnt, tried, ye...|[0.00245019592278...|  0.0|[0.00245019592278...|[2.70881890036306...|[0.48488427894656...|       1.0|\n",
            "|spam|\"FREE RING TONE j...|   111|free ring tone ju...|[free, ring, tone...|[free, ring, tone...|[0.01521357849317...|  1.0|[0.01521357849317...|[1.25666827727234...|[0.00348042771144...|       1.0|\n",
            "|spam|+123 Congratulati...|   169| congratulations ...|[congratulations,...|[congratulations,...|[0.00439104751179...|  1.0|[0.00439104751179...|[1.90328970693452...|[4.66230030265287...|       1.0|\n",
            "+----+--------------------+------+--------------------+--------------------+--------------------+--------------------+-----+--------------------+--------------------+--------------------+----------+\n",
            "only showing top 20 rows\n",
            "\n",
            "+--------------------+--------------------+\n",
            "|                  v2|      Recommendation|\n",
            "+--------------------+--------------------+\n",
            "| &lt;DECIMAL&gt; ...|        Safe to Read|\n",
            "| said kiss, kiss,...|        Safe to Read|\n",
            "| what number do u...|        Safe to Read|\n",
            "|\"A Boy loved a ga...|        Safe to Read|\n",
            "|\"Beautiful Truth ...|        Safe to Read|\n",
            "|\"Best line said i...|        Safe to Read|\n",
            "|\"Feb  &lt;#&gt;  ...|        Safe to Read|\n",
            "|\"Helloooo... Wake...|        Safe to Read|\n",
            "|\"Storming msg: We...|        Safe to Read|\n",
            "|\"Superb Thought- ...|        Safe to Read|\n",
            "|\"Tell you what, i...|        Safe to Read|\n",
            "|\"Today is \\song d...|        Safe to Read|\n",
            "|\"U need my presnt...|        Safe to Read|\n",
            "|\"When I was born,...|        Safe to Read|\n",
            "|\"\\Life is nothing...|        Safe to Read|\n",
            "|&lt;#&gt;  great ...|        Safe to Read|\n",
            "|(And my man carlo...|        Safe to Read|\n",
            "|1 in cbe. 2 in ch...|        Safe to Read|\n",
            "|2 laptop... I noe...|        Safe to Read|\n",
            "|3 pa but not sele...|Recommended for R...|\n",
            "+--------------------+--------------------+\n",
            "only showing top 20 rows\n",
            "\n"
          ]
        }
      ]
    },
    {
      "cell_type": "code",
      "source": [
        "from pyspark.ml.classification import RandomForestClassifier\n",
        "from pyspark.ml.evaluation import BinaryClassificationEvaluator, MulticlassClassificationEvaluator\n",
        "from pyspark.mllib.evaluation import MulticlassMetrics\n",
        "\n",
        "rf = RandomForestClassifier(featuresCol=\"final_features\", labelCol=\"label\", numTrees=100)\n",
        "rf_model = rf.fit(train_df)\n",
        "\n",
        "predictions = rf_model.transform(test_df)\n",
        "\n",
        "evaluator_auc = BinaryClassificationEvaluator(labelCol=\"label\", rawPredictionCol=\"rawPrediction\", metricName=\"areaUnderROC\")\n",
        "auc = evaluator_auc.evaluate(predictions)\n",
        "\n",
        "evaluator_accuracy = MulticlassClassificationEvaluator(labelCol=\"label\", predictionCol=\"prediction\", metricName=\"accuracy\")\n",
        "accuracy = evaluator_accuracy.evaluate(predictions)\n",
        "\n",
        "evaluator_precision = MulticlassClassificationEvaluator(labelCol=\"label\", predictionCol=\"prediction\", metricName=\"weightedPrecision\")\n",
        "precision = evaluator_precision.evaluate(predictions)\n",
        "\n",
        "evaluator_recall = MulticlassClassificationEvaluator(labelCol=\"label\", predictionCol=\"prediction\", metricName=\"weightedRecall\")\n",
        "recall = evaluator_recall.evaluate(predictions)\n",
        "\n",
        "evaluator_f1 = MulticlassClassificationEvaluator(labelCol=\"label\", predictionCol=\"prediction\", metricName=\"f1\")\n",
        "f1 = evaluator_f1.evaluate(predictions)\n",
        "\n",
        "print(\"AUC:\", auc)\n",
        "print(\"Accuracy:\", accuracy)\n",
        "print(\"Precision:\", precision)\n",
        "print(\"Recall:\", recall)\n",
        "print(\"F1-Score:\", f1)\n",
        "\n",
        "prediction_and_label = predictions.select(\"prediction\", \"label\").rdd\n",
        "metrics = MulticlassMetrics(prediction_and_label)\n",
        "confusion_matrix = metrics.confusionMatrix().toArray()\n",
        "print(\"Confusion Matrix:\")\n",
        "print(confusion_matrix)\n"
      ],
      "metadata": {
        "id": "eoFyxrA8dRm_",
        "colab": {
          "base_uri": "https://localhost:8080/"
        },
        "outputId": "af133eac-4f23-4f3b-aa6e-ddc5b231fbfb"
      },
      "execution_count": 17,
      "outputs": [
        {
          "output_type": "stream",
          "name": "stdout",
          "text": [
            "AUC: 0.9456018857427362\n",
            "Accuracy: 0.942110177404295\n",
            "Precision: 0.9429578519997326\n",
            "Recall: 0.942110177404295\n",
            "F1-Score: 0.9364740403918563\n",
            "Confusion Matrix:\n",
            "[[919.   4.]\n",
            " [ 58.  90.]]\n"
          ]
        }
      ]
    },
    {
      "cell_type": "markdown",
      "source": [
        "**1. Logistic Regression Model Implementation:**\n",
        "\n",
        "Using PySpark's LogisticRegression class, I attempt to model the relationship between our features and the target label. This is done to predict the probability of a particular class.\n",
        "\n",
        "**Model Initialization:** Define the columns for features and label for our Logistic Regression model.\n",
        "\n",
        "**Training:** The model, lr, is then trained using the training dataset, producing lr_model.\n",
        "\n",
        "**Prediction:** The trained model is applied to the test dataset to produce predictions.\n",
        "\n",
        "\n",
        "**2. Evaluating the Model's Performance:**\n",
        "\n",
        "Once predictions are made, it's crucial to assess the model's effectiveness using various metrics.\n",
        "\n",
        "**Evaluators Initialization:** Multiple evaluators are initialized, one for each of the metrics I want: AUC, accuracy, precision, recall, and F1-Score.\n",
        "\n",
        "**Metric Calculation:**For each evaluator, I apply it to the model's predictions to compute the respective metric.\n",
        "\n",
        "**Output:** The calculated metrics are printed, offering insights into the model's performance.\n",
        "\n",
        "\n",
        "**3. Deep Dive into Predictions:**\n",
        "\n",
        "Analyzing specific predictions, especially misclassifications, can provide valuable insights.\n",
        "\n",
        "**SQL View Creation:** By creating an SQL view of our predictions, I can run SQL-like queries on my dataset.\n",
        "\n",
        "**Spam Filtering:** I extract messages predicted as spam and display them.\n",
        "\n",
        "**Recommendation Generation:**Based on the prediction (spam or not), I tag messages with recommendations using a user-defined function. The aim is to guide user actions based on model predictions.\n",
        "\n",
        "\n",
        "**4. Exploring Random Forest Classifier:**\n",
        "\n",
        "To enhance the robustness of my solution, I employ another model – the Random Forest Classifier.\n",
        "\n",
        "**Model Initialization:**The Random Forest model is defined, specifying my feature columns and label.\n",
        "\n",
        "**Training and Prediction:** Similar to the Logistic Regression model, I train the Random Forest model on the training data and make predictions on the test data.\n",
        "\n",
        "**Performance Evaluation:** Using the same evaluators, I compute and print performance metrics for this model, enabling a comparison with my previous model.\n",
        "\n",
        "**5. Detailed Model Analysis using Confusion Matrix:**\n",
        "The confusion matrix offers a comprehensive view of where my model is accurate and where it errs.\n",
        "\n",
        "**Matrix Generation:** Predictions are reformatted to a structure suitable for generating a confusion matrix.\n",
        "\n",
        "**Output:** The matrix, which shows True Positives, True Negatives, False Positives, and False Negatives, is displayed. This aids in understanding the model's precise performance nuances.\n",
        "\n",
        "\n",
        "\n",
        "\n"
      ],
      "metadata": {
        "id": "EQ9c0cnuaHLO"
      }
    },
    {
      "cell_type": "markdown",
      "source": [
        "Both the Logistic Regression and Random Forest classifiers have performed commendably in classifying text messages. The Logistic Regression model slightly outperforms the Random Forest Classifier in this dataset, as indicated by the AUC and F1-Score. However, there is room for improvement, especially in reducing false negatives (misclassified 'spam' messages), which could be critical in a real-world spam detection scenario."
      ],
      "metadata": {
        "id": "BRweomYjcEBf"
      }
    },
    {
      "cell_type": "code",
      "source": [],
      "metadata": {
        "id": "gf-kOnZh_UiH"
      },
      "execution_count": null,
      "outputs": []
    }
  ],
  "metadata": {
    "colab": {
      "provenance": [],
      "include_colab_link": true
    },
    "kernelspec": {
      "display_name": "Python 3 (ipykernel)",
      "language": "python",
      "name": "python3"
    },
    "language_info": {
      "codemirror_mode": {
        "name": "ipython",
        "version": 3
      },
      "file_extension": ".py",
      "mimetype": "text/x-python",
      "name": "python",
      "nbconvert_exporter": "python",
      "pygments_lexer": "ipython3",
      "version": "3.9.7"
    }
  },
  "nbformat": 4,
  "nbformat_minor": 0
}